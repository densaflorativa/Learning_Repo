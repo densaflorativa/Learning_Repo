{
 "cells": [
  {
   "cell_type": "code",
   "execution_count": 1,
   "metadata": {
    "_cell_guid": "b1076dfc-b9ad-4769-8c92-a6c4dae69d19",
    "_uuid": "8f2839f25d086af736a60e9eeb907d3b93b6e0e5",
    "colab": {},
    "colab_type": "code",
    "id": "U2D2gTdJVp90"
   },
   "outputs": [],
   "source": [
    "import numpy as np\n",
    "import pandas as pd\n",
    "import seaborn as sns\n",
    "import matplotlib.pyplot as plt\n",
    "from collections import Counter\n",
    "import itertools\n"
   ]
  },
  {
   "cell_type": "code",
   "execution_count": 2,
   "metadata": {
    "_cell_guid": "79c7e3d0-c299-4dcb-8224-4455121ee9b0",
    "_uuid": "d629ff2d2480ee46fbb7e2d37f6b5fab8052498a",
    "colab": {},
    "colab_type": "code",
    "id": "oyGfxL3eVp9-"
   },
   "outputs": [
    {
     "data": {
      "text/html": [
       "<div>\n",
       "<style scoped>\n",
       "    .dataframe tbody tr th:only-of-type {\n",
       "        vertical-align: middle;\n",
       "    }\n",
       "\n",
       "    .dataframe tbody tr th {\n",
       "        vertical-align: top;\n",
       "    }\n",
       "\n",
       "    .dataframe thead th {\n",
       "        text-align: right;\n",
       "    }\n",
       "</style>\n",
       "<table border=\"1\" class=\"dataframe\">\n",
       "  <thead>\n",
       "    <tr style=\"text-align: right;\">\n",
       "      <th></th>\n",
       "      <th>imdb_id</th>\n",
       "      <th>budget</th>\n",
       "      <th>revenue</th>\n",
       "      <th>original_title</th>\n",
       "      <th>cast</th>\n",
       "      <th>director</th>\n",
       "      <th>tagline</th>\n",
       "      <th>overview</th>\n",
       "      <th>runtime</th>\n",
       "      <th>genres</th>\n",
       "      <th>production_companies</th>\n",
       "      <th>release_date</th>\n",
       "      <th>vote_average</th>\n",
       "      <th>release_year</th>\n",
       "    </tr>\n",
       "  </thead>\n",
       "  <tbody>\n",
       "    <tr>\n",
       "      <th>629</th>\n",
       "      <td>tt0452608</td>\n",
       "      <td>45000000</td>\n",
       "      <td>73762516</td>\n",
       "      <td>Death Race</td>\n",
       "      <td>Jason Statham|Joan Allen|Ian McShane|Tyrese Gi...</td>\n",
       "      <td>Paul W.S. Anderson</td>\n",
       "      <td>Get ready for a killer race.</td>\n",
       "      <td>Terminal Island, New York: 2020. Overcrowding ...</td>\n",
       "      <td>105</td>\n",
       "      <td>Action|Thriller|Science Fiction</td>\n",
       "      <td>Universal Pictures|Cruise/Wagner Productions|I...</td>\n",
       "      <td>8/22/2008</td>\n",
       "      <td>5.9</td>\n",
       "      <td>2008</td>\n",
       "    </tr>\n",
       "    <tr>\n",
       "      <th>748</th>\n",
       "      <td>tt1650062</td>\n",
       "      <td>50000000</td>\n",
       "      <td>260095987</td>\n",
       "      <td>Super 8</td>\n",
       "      <td>Joel Courtney|Elle Fanning|Riley Griffiths|Kyl...</td>\n",
       "      <td>J.J. Abrams</td>\n",
       "      <td>It Arrives.</td>\n",
       "      <td>In 1979 Ohio, several youngsters are making a ...</td>\n",
       "      <td>112</td>\n",
       "      <td>Thriller|Science Fiction|Mystery</td>\n",
       "      <td>Paramount Pictures|Amblin Entertainment|Bad Ro...</td>\n",
       "      <td>6/8/2011</td>\n",
       "      <td>6.6</td>\n",
       "      <td>2011</td>\n",
       "    </tr>\n",
       "    <tr>\n",
       "      <th>84</th>\n",
       "      <td>tt3567288</td>\n",
       "      <td>5000000</td>\n",
       "      <td>98450062</td>\n",
       "      <td>The Visit</td>\n",
       "      <td>Olivia DeJonge|Ed Oxenbould|Kathryn Hahn|Benja...</td>\n",
       "      <td>M. Night Shyamalan</td>\n",
       "      <td>No one loves you like your grandparents.</td>\n",
       "      <td>The terrifying story of a brother and sister w...</td>\n",
       "      <td>94</td>\n",
       "      <td>Horror|Thriller</td>\n",
       "      <td>Blumhouse Productions|Blinding Edge Pictures</td>\n",
       "      <td>9/10/2015</td>\n",
       "      <td>5.9</td>\n",
       "      <td>2015</td>\n",
       "    </tr>\n",
       "    <tr>\n",
       "      <th>1672</th>\n",
       "      <td>tt0440963</td>\n",
       "      <td>70000000</td>\n",
       "      <td>442824138</td>\n",
       "      <td>The Bourne Ultimatum</td>\n",
       "      <td>Matt Damon|Julia Stiles|David Strathairn|Scott...</td>\n",
       "      <td>Paul Greengrass</td>\n",
       "      <td>Remember everything. Forgive nothing.</td>\n",
       "      <td>Bourne is brought out of hiding once again by ...</td>\n",
       "      <td>115</td>\n",
       "      <td>Action|Drama|Mystery|Thriller</td>\n",
       "      <td>Universal Pictures|The Kennedy/Marshall Compan...</td>\n",
       "      <td>8/3/2007</td>\n",
       "      <td>7.2</td>\n",
       "      <td>2007</td>\n",
       "    </tr>\n",
       "    <tr>\n",
       "      <th>779</th>\n",
       "      <td>tt1217613</td>\n",
       "      <td>70000000</td>\n",
       "      <td>202466756</td>\n",
       "      <td>Battle: Los Angeles</td>\n",
       "      <td>Aaron Eckhart|RamÃ³n RodrÃ­guez|Will Rothhaar|...</td>\n",
       "      <td>Jonathan Liebesman</td>\n",
       "      <td>It's not war. It's survival.</td>\n",
       "      <td>The Earth is attacked by unknown forces. As pe...</td>\n",
       "      <td>116</td>\n",
       "      <td>Action|Science Fiction</td>\n",
       "      <td>Columbia Pictures|Original Film|Relativity Media</td>\n",
       "      <td>3/8/2011</td>\n",
       "      <td>5.5</td>\n",
       "      <td>2011</td>\n",
       "    </tr>\n",
       "  </tbody>\n",
       "</table>\n",
       "</div>"
      ],
      "text/plain": [
       "        imdb_id    budget    revenue        original_title  \\\n",
       "629   tt0452608  45000000   73762516            Death Race   \n",
       "748   tt1650062  50000000  260095987               Super 8   \n",
       "84    tt3567288   5000000   98450062             The Visit   \n",
       "1672  tt0440963  70000000  442824138  The Bourne Ultimatum   \n",
       "779   tt1217613  70000000  202466756   Battle: Los Angeles   \n",
       "\n",
       "                                                   cast            director  \\\n",
       "629   Jason Statham|Joan Allen|Ian McShane|Tyrese Gi...  Paul W.S. Anderson   \n",
       "748   Joel Courtney|Elle Fanning|Riley Griffiths|Kyl...         J.J. Abrams   \n",
       "84    Olivia DeJonge|Ed Oxenbould|Kathryn Hahn|Benja...  M. Night Shyamalan   \n",
       "1672  Matt Damon|Julia Stiles|David Strathairn|Scott...     Paul Greengrass   \n",
       "779   Aaron Eckhart|RamÃ³n RodrÃ­guez|Will Rothhaar|...  Jonathan Liebesman   \n",
       "\n",
       "                                       tagline  \\\n",
       "629               Get ready for a killer race.   \n",
       "748                                It Arrives.   \n",
       "84    No one loves you like your grandparents.   \n",
       "1672     Remember everything. Forgive nothing.   \n",
       "779               It's not war. It's survival.   \n",
       "\n",
       "                                               overview  runtime  \\\n",
       "629   Terminal Island, New York: 2020. Overcrowding ...      105   \n",
       "748   In 1979 Ohio, several youngsters are making a ...      112   \n",
       "84    The terrifying story of a brother and sister w...       94   \n",
       "1672  Bourne is brought out of hiding once again by ...      115   \n",
       "779   The Earth is attacked by unknown forces. As pe...      116   \n",
       "\n",
       "                                genres  \\\n",
       "629    Action|Thriller|Science Fiction   \n",
       "748   Thriller|Science Fiction|Mystery   \n",
       "84                     Horror|Thriller   \n",
       "1672     Action|Drama|Mystery|Thriller   \n",
       "779             Action|Science Fiction   \n",
       "\n",
       "                                   production_companies release_date  \\\n",
       "629   Universal Pictures|Cruise/Wagner Productions|I...    8/22/2008   \n",
       "748   Paramount Pictures|Amblin Entertainment|Bad Ro...     6/8/2011   \n",
       "84         Blumhouse Productions|Blinding Edge Pictures    9/10/2015   \n",
       "1672  Universal Pictures|The Kennedy/Marshall Compan...     8/3/2007   \n",
       "779    Columbia Pictures|Original Film|Relativity Media     3/8/2011   \n",
       "\n",
       "      vote_average  release_year  \n",
       "629            5.9          2008  \n",
       "748            6.6          2011  \n",
       "84             5.9          2015  \n",
       "1672           7.2          2007  \n",
       "779            5.5          2011  "
      ]
     },
     "execution_count": 2,
     "metadata": {},
     "output_type": "execute_result"
    }
   ],
   "source": [
    "data = pd.read_csv('movie_bd_v5.csv')\n",
    "data.sample(5)"
   ]
  },
  {
   "cell_type": "code",
   "execution_count": 3,
   "metadata": {
    "colab": {},
    "colab_type": "code",
    "id": "CoYUnagMVp-C"
   },
   "outputs": [
    {
     "data": {
      "text/html": [
       "<div>\n",
       "<style scoped>\n",
       "    .dataframe tbody tr th:only-of-type {\n",
       "        vertical-align: middle;\n",
       "    }\n",
       "\n",
       "    .dataframe tbody tr th {\n",
       "        vertical-align: top;\n",
       "    }\n",
       "\n",
       "    .dataframe thead th {\n",
       "        text-align: right;\n",
       "    }\n",
       "</style>\n",
       "<table border=\"1\" class=\"dataframe\">\n",
       "  <thead>\n",
       "    <tr style=\"text-align: right;\">\n",
       "      <th></th>\n",
       "      <th>budget</th>\n",
       "      <th>revenue</th>\n",
       "      <th>runtime</th>\n",
       "      <th>vote_average</th>\n",
       "      <th>release_year</th>\n",
       "    </tr>\n",
       "  </thead>\n",
       "  <tbody>\n",
       "    <tr>\n",
       "      <th>count</th>\n",
       "      <td>1.889000e+03</td>\n",
       "      <td>1.889000e+03</td>\n",
       "      <td>1889.000000</td>\n",
       "      <td>1889.000000</td>\n",
       "      <td>1889.000000</td>\n",
       "    </tr>\n",
       "    <tr>\n",
       "      <th>mean</th>\n",
       "      <td>5.431083e+07</td>\n",
       "      <td>1.553653e+08</td>\n",
       "      <td>109.658549</td>\n",
       "      <td>6.140762</td>\n",
       "      <td>2007.860773</td>\n",
       "    </tr>\n",
       "    <tr>\n",
       "      <th>std</th>\n",
       "      <td>4.858721e+07</td>\n",
       "      <td>2.146698e+08</td>\n",
       "      <td>18.017041</td>\n",
       "      <td>0.764763</td>\n",
       "      <td>4.468841</td>\n",
       "    </tr>\n",
       "    <tr>\n",
       "      <th>min</th>\n",
       "      <td>5.000000e+06</td>\n",
       "      <td>2.033165e+06</td>\n",
       "      <td>63.000000</td>\n",
       "      <td>3.300000</td>\n",
       "      <td>2000.000000</td>\n",
       "    </tr>\n",
       "    <tr>\n",
       "      <th>25%</th>\n",
       "      <td>2.000000e+07</td>\n",
       "      <td>3.456058e+07</td>\n",
       "      <td>97.000000</td>\n",
       "      <td>5.600000</td>\n",
       "      <td>2004.000000</td>\n",
       "    </tr>\n",
       "    <tr>\n",
       "      <th>50%</th>\n",
       "      <td>3.800000e+07</td>\n",
       "      <td>8.361541e+07</td>\n",
       "      <td>107.000000</td>\n",
       "      <td>6.100000</td>\n",
       "      <td>2008.000000</td>\n",
       "    </tr>\n",
       "    <tr>\n",
       "      <th>75%</th>\n",
       "      <td>7.200000e+07</td>\n",
       "      <td>1.782626e+08</td>\n",
       "      <td>120.000000</td>\n",
       "      <td>6.600000</td>\n",
       "      <td>2012.000000</td>\n",
       "    </tr>\n",
       "    <tr>\n",
       "      <th>max</th>\n",
       "      <td>3.800000e+08</td>\n",
       "      <td>2.781506e+09</td>\n",
       "      <td>214.000000</td>\n",
       "      <td>8.100000</td>\n",
       "      <td>2015.000000</td>\n",
       "    </tr>\n",
       "  </tbody>\n",
       "</table>\n",
       "</div>"
      ],
      "text/plain": [
       "             budget       revenue      runtime  vote_average  release_year\n",
       "count  1.889000e+03  1.889000e+03  1889.000000   1889.000000   1889.000000\n",
       "mean   5.431083e+07  1.553653e+08   109.658549      6.140762   2007.860773\n",
       "std    4.858721e+07  2.146698e+08    18.017041      0.764763      4.468841\n",
       "min    5.000000e+06  2.033165e+06    63.000000      3.300000   2000.000000\n",
       "25%    2.000000e+07  3.456058e+07    97.000000      5.600000   2004.000000\n",
       "50%    3.800000e+07  8.361541e+07   107.000000      6.100000   2008.000000\n",
       "75%    7.200000e+07  1.782626e+08   120.000000      6.600000   2012.000000\n",
       "max    3.800000e+08  2.781506e+09   214.000000      8.100000   2015.000000"
      ]
     },
     "execution_count": 3,
     "metadata": {},
     "output_type": "execute_result"
    }
   ],
   "source": [
    "data.describe()"
   ]
  },
  {
   "cell_type": "markdown",
   "metadata": {
    "colab_type": "text",
    "id": "DTIt7ezGVp-G"
   },
   "source": [
    "# Предобработка"
   ]
  },
  {
   "cell_type": "code",
   "execution_count": 4,
   "metadata": {
    "colab": {},
    "colab_type": "code",
    "id": "jNb40DwKVp-H"
   },
   "outputs": [],
   "source": [
    "answers = {} # создадим словарь для ответов\n",
    "\n",
    "# Cоздадим необходимые в дальнейшем колонки: \n",
    "# прибыль, длина названия, длина отзыва, месяц выпуска, комбинации актеров\n",
    "data['profit'] = data.revenue - data.budget\n",
    "data['title_len']=data.original_title.apply(lambda s: len(s))\n",
    "data['len_overview']=data.overview.apply(lambda s: len(str(s).split(' ')))\n",
    "data['month']=data.release_date.apply(lambda s: str(s).split('/')[0])\n",
    "data['cast_comb'] = data.cast.str.split('|').apply(lambda x: tuple(itertools.combinations(sorted(x),2)))\n",
    "\n",
    "# Создадим неуникальные списки с разделенными(отдельными) \n",
    "# именами режиссеров, жанрами, актерами и студиями\n",
    "directors = []\n",
    "data.director.apply(lambda x: directors.extend(x.split('|')))\n",
    "genres = []\n",
    "data.genres.apply(lambda x: genres.extend(x.split('|')))\n",
    "cast = []\n",
    "data.cast.apply(lambda x: cast.extend(x.split('|')))\n",
    "production_companies = []\n",
    "data.production_companies.apply(lambda x: production_companies.extend(x.split('|')))\n",
    "\n",
    "# Инициализируем лямбда функции\n",
    "get_title = lambda df: df.original_title.tolist()[0] # Получить название фильма\n",
    "get_max = lambda dic: max(dic, key = dic.get) # Получить максимум из словаря\n"
   ]
  },
  {
   "cell_type": "markdown",
   "metadata": {
    "colab_type": "text",
    "id": "YxZaH-nPVp-L"
   },
   "source": [
    "# 1. У какого фильма из списка самый большой бюджет?"
   ]
  },
  {
   "cell_type": "markdown",
   "metadata": {
    "colab_type": "text",
    "id": "Nd-G5gX6Vp-M"
   },
   "source": [
    "Использовать варианты ответов в коде решения запрещено.    \n",
    "Вы думаете и в жизни у вас будут варианты ответов?)"
   ]
  },
  {
   "cell_type": "code",
   "execution_count": 5,
   "metadata": {},
   "outputs": [
    {
     "data": {
      "text/plain": [
       "'Pirates of the Caribbean: On Stranger Tides'"
      ]
     },
     "execution_count": 5,
     "metadata": {},
     "output_type": "execute_result"
    }
   ],
   "source": [
    "answers['1'] = '5. Pirates of the Caribbean: On Stranger Tides'  # +\n",
    "\n",
    "get_title(data[data.budget == data.budget.max()]) # Извлекаем по условию"
   ]
  },
  {
   "cell_type": "markdown",
   "metadata": {
    "colab_type": "text",
    "id": "FNRbbI3vVp-c"
   },
   "source": [
    "# 2. Какой из фильмов самый длительный (в минутах)?"
   ]
  },
  {
   "cell_type": "code",
   "execution_count": 6,
   "metadata": {
    "colab": {},
    "colab_type": "code",
    "id": "vHAoEXNTVp-d"
   },
   "outputs": [
    {
     "data": {
      "text/plain": [
       "'Gods and Generals'"
      ]
     },
     "execution_count": 6,
     "metadata": {},
     "output_type": "execute_result"
    }
   ],
   "source": [
    "answers['2'] = '2. Gods and Generals'  # +\n",
    "\n",
    "get_title(data[data.runtime == data.runtime.max()])"
   ]
  },
  {
   "cell_type": "markdown",
   "metadata": {
    "colab_type": "text",
    "id": "bapLlpW8Vp-k"
   },
   "source": [
    "# 3. Какой из фильмов самый короткий (в минутах)?\n",
    "\n",
    "\n",
    "\n"
   ]
  },
  {
   "cell_type": "code",
   "execution_count": 7,
   "metadata": {
    "colab": {},
    "colab_type": "code",
    "id": "YBxaSHuAVp-l"
   },
   "outputs": [
    {
     "data": {
      "text/plain": [
       "'Winnie the Pooh'"
      ]
     },
     "execution_count": 7,
     "metadata": {},
     "output_type": "execute_result"
    }
   ],
   "source": [
    "answers['3'] = '3. Winnie the Pooh' # +\n",
    "\n",
    "get_title(data[data.runtime==data.runtime.min()])"
   ]
  },
  {
   "cell_type": "markdown",
   "metadata": {
    "colab_type": "text",
    "id": "TfQbxbfNVp-p"
   },
   "source": [
    "# 4. Какова средняя длительность фильмов?\n"
   ]
  },
  {
   "cell_type": "code",
   "execution_count": 8,
   "metadata": {
    "colab": {},
    "colab_type": "code",
    "id": "5K6dKZYVVp-q"
   },
   "outputs": [
    {
     "data": {
      "text/plain": [
       "110"
      ]
     },
     "execution_count": 8,
     "metadata": {},
     "output_type": "execute_result"
    }
   ],
   "source": [
    "answers['4'] = '2. 110' # +\n",
    "\n",
    "round(data.runtime.mean()) # использован round тк все предложенные ответы целые"
   ]
  },
  {
   "cell_type": "markdown",
   "metadata": {
    "colab_type": "text",
    "id": "r5TvbnT_Vp-u"
   },
   "source": [
    "# 5. Каково медианное значение длительности фильмов? "
   ]
  },
  {
   "cell_type": "code",
   "execution_count": 9,
   "metadata": {
    "colab": {},
    "colab_type": "code",
    "id": "iBROplKnVp-v"
   },
   "outputs": [
    {
     "data": {
      "text/plain": [
       "107.0"
      ]
     },
     "execution_count": 9,
     "metadata": {},
     "output_type": "execute_result"
    }
   ],
   "source": [
    "answers['5'] = '3. 107' # +\n",
    "\n",
    "data.runtime.median()"
   ]
  },
  {
   "cell_type": "markdown",
   "metadata": {
    "colab_type": "text",
    "id": "39P-deDSVp-y"
   },
   "source": [
    "# 6. Какой самый прибыльный фильм?\n",
    "#### Внимание! Здесь и далее под «прибылью» или «убытками» понимается разность между сборами и бюджетом фильма. (прибыль = сборы - бюджет) в нашем датасете это будет (profit = revenue - budget) "
   ]
  },
  {
   "cell_type": "code",
   "execution_count": 10,
   "metadata": {
    "colab": {},
    "colab_type": "code",
    "id": "UYZh4T9WVp-y"
   },
   "outputs": [
    {
     "data": {
      "text/plain": [
       "'Avatar'"
      ]
     },
     "execution_count": 10,
     "metadata": {},
     "output_type": "execute_result"
    }
   ],
   "source": [
    "answers['6'] = '5. Avatar' # +\n",
    "\n",
    "get_title(data[data.profit == data.profit.max()])"
   ]
  },
  {
   "cell_type": "markdown",
   "metadata": {
    "colab_type": "text",
    "id": "M99JmIX4Vp-2"
   },
   "source": [
    "# 7. Какой фильм самый убыточный? "
   ]
  },
  {
   "cell_type": "code",
   "execution_count": 11,
   "metadata": {
    "colab": {},
    "colab_type": "code",
    "id": "w-D2m4XPVp-3"
   },
   "outputs": [
    {
     "data": {
      "text/plain": [
       "'The Lone Ranger'"
      ]
     },
     "execution_count": 11,
     "metadata": {},
     "output_type": "execute_result"
    }
   ],
   "source": [
    "answers['7'] = '5. The Lone Ranger' # +\n",
    "\n",
    "get_title(data[data.profit == data.profit.min()])"
   ]
  },
  {
   "cell_type": "markdown",
   "metadata": {
    "colab_type": "text",
    "id": "wEOM5ERVVp-6"
   },
   "source": [
    "# 8. У скольких фильмов из датасета объем сборов оказался выше бюджета?"
   ]
  },
  {
   "cell_type": "code",
   "execution_count": 12,
   "metadata": {
    "colab": {},
    "colab_type": "code",
    "id": "y00_7HD6Vp-7"
   },
   "outputs": [
    {
     "data": {
      "text/plain": [
       "1478"
      ]
     },
     "execution_count": 12,
     "metadata": {},
     "output_type": "execute_result"
    }
   ],
   "source": [
    "answers['8'] = '1. 1478' # +\n",
    "\n",
    "''' \n",
    "    В данной задаче длина датасета отображает количество фильмов,\n",
    "    поэтому здесь и далее она используется с этой целью.\n",
    "''' \n",
    "len(data[data.revenue > data.budget]) "
   ]
  },
  {
   "cell_type": "markdown",
   "metadata": {
    "colab_type": "text",
    "id": "xhpspA9KVp_A"
   },
   "source": [
    "# 9. Какой фильм оказался самым кассовым в 2008 году?"
   ]
  },
  {
   "cell_type": "code",
   "execution_count": 13,
   "metadata": {
    "colab": {},
    "colab_type": "code",
    "id": "MoUyQr9RVp_B"
   },
   "outputs": [
    {
     "data": {
      "text/plain": [
       "'The Dark Knight'"
      ]
     },
     "execution_count": 13,
     "metadata": {},
     "output_type": "execute_result"
    }
   ],
   "source": [
    "answers['9'] = '4. The Dark Knight' # +\n",
    "\n",
    "data9 = data[data.release_year == 2008]\n",
    "get_title(data9[data9.revenue == data9.revenue.max()])"
   ]
  },
  {
   "cell_type": "markdown",
   "metadata": {
    "colab_type": "text",
    "id": "Zi4hDKidVp_F"
   },
   "source": [
    "# 10. Самый убыточный фильм за период с 2012 по 2014 г. (включительно)?\n"
   ]
  },
  {
   "cell_type": "code",
   "execution_count": 14,
   "metadata": {
    "colab": {},
    "colab_type": "code",
    "id": "XqyRmufJVp_F"
   },
   "outputs": [
    {
     "data": {
      "text/plain": [
       "'The Lone Ranger'"
      ]
     },
     "execution_count": 14,
     "metadata": {},
     "output_type": "execute_result"
    }
   ],
   "source": [
    "answers['10'] = '5. The Lone Ranger' # +\n",
    "\n",
    "data10=data.query('2012 <= release_year <= 2014')\n",
    "get_title(data10[data10.profit == data10.profit.min()])"
   ]
  },
  {
   "cell_type": "markdown",
   "metadata": {
    "colab_type": "text",
    "id": "EA7Sa9dkVp_I"
   },
   "source": [
    "# 11. Какого жанра фильмов больше всего?"
   ]
  },
  {
   "cell_type": "code",
   "execution_count": 15,
   "metadata": {},
   "outputs": [
    {
     "data": {
      "text/plain": [
       "'Drama'"
      ]
     },
     "execution_count": 15,
     "metadata": {},
     "output_type": "execute_result"
    }
   ],
   "source": [
    "answers['11'] = '3. Drama' # +\n",
    "\n",
    "''' \n",
    "    При препроцессинге сохранены неуникальные значения, \n",
    "    поэтому к ним достаточно просто применить Counter. \n",
    "    Для получения уникальных значений далее используется set\n",
    "'''\n",
    "get_max(Counter(genres)) "
   ]
  },
  {
   "cell_type": "markdown",
   "metadata": {
    "colab_type": "text",
    "id": "T9_bPWpkVp_Q"
   },
   "source": [
    "# 12. Фильмы какого жанра чаще всего становятся прибыльными? "
   ]
  },
  {
   "cell_type": "code",
   "execution_count": 16,
   "metadata": {
    "colab": {},
    "colab_type": "code",
    "id": "Tmt8MaK1Vp_R"
   },
   "outputs": [
    {
     "data": {
      "text/plain": [
       "'Drama'"
      ]
     },
     "execution_count": 16,
     "metadata": {},
     "output_type": "execute_result"
    }
   ],
   "source": [
    "answers['12'] = '1. Drama' # +\n",
    "\n",
    "''' \n",
    "    Здесь и далее для подобных задач создается словарь,\n",
    "    в который попадают необходимые значения для подсчета\n",
    "    из каждого отдельного датафрейма. Например здесь: \n",
    "    для каждого жанра создается фрейм, который его содержит,\n",
    "    после чего в нем считается количество прибыльных фильмов.\n",
    "    Количество и жанр заносятся в словарь, оттуда же извлекается\n",
    "    максимальное значение.\n",
    "'''\n",
    "revenue_genres = {}\n",
    "for g in set(genres):\n",
    "    data12 = data[data.genres.str.contains(g)]\n",
    "    revenue_genres[g] = len(data12[data12.profit > 0])\n",
    "get_max(revenue_genres)"
   ]
  },
  {
   "cell_type": "markdown",
   "metadata": {
    "colab_type": "text",
    "id": "0F23bgsDVp_U"
   },
   "source": [
    "# 13. У какого режиссера самые большие суммарные кассовые сборы?"
   ]
  },
  {
   "cell_type": "code",
   "execution_count": 17,
   "metadata": {},
   "outputs": [
    {
     "data": {
      "text/plain": [
       "'Peter Jackson'"
      ]
     },
     "execution_count": 17,
     "metadata": {},
     "output_type": "execute_result"
    }
   ],
   "source": [
    "answers['13'] = '5. Peter Jackson' # +\n",
    "\n",
    "directors_revenue = {}\n",
    "for d in set(directors):\n",
    "    data13 = data[data.director.str.contains(d)]\n",
    "    revenue_sum = data13.revenue.sum()\n",
    "    directors_revenue[d] = revenue_sum\n",
    "get_max(directors_revenue)"
   ]
  },
  {
   "cell_type": "markdown",
   "metadata": {
    "colab_type": "text",
    "id": "PsYC9FgRVp_a"
   },
   "source": [
    "# 14. Какой режисер снял больше всего фильмов в стиле Action?"
   ]
  },
  {
   "cell_type": "code",
   "execution_count": 18,
   "metadata": {
    "colab": {},
    "colab_type": "code",
    "id": "wd2M-wHeVp_b"
   },
   "outputs": [
    {
     "data": {
      "text/plain": [
       "'Robert Rodriguez'"
      ]
     },
     "execution_count": 18,
     "metadata": {},
     "output_type": "execute_result"
    }
   ],
   "source": [
    "answers['14'] = '3. Robert Rodriguez' # +\n",
    "\n",
    "directors_action = {}\n",
    "for d in set(directors):\n",
    "    data14 = data[(data.director.str.contains(d))&(data.genres.str.contains('Action'))]\n",
    "    films_num = len(data14)\n",
    "    directors_action[d] = films_num\n",
    "get_max(directors_action)"
   ]
  },
  {
   "cell_type": "markdown",
   "metadata": {
    "colab_type": "text",
    "id": "PQ0KciD7Vp_f"
   },
   "source": [
    "# 15. Фильмы с каким актером принесли самые высокие кассовые сборы в 2012 году? "
   ]
  },
  {
   "cell_type": "code",
   "execution_count": 19,
   "metadata": {
    "colab": {},
    "colab_type": "code",
    "id": "aga62oeKVp_g"
   },
   "outputs": [
    {
     "data": {
      "text/plain": [
       "'Chris Hemsworth'"
      ]
     },
     "execution_count": 19,
     "metadata": {},
     "output_type": "execute_result"
    }
   ],
   "source": [
    "answers['15'] = '3. Chris Hemsworth' # +\n",
    "\n",
    "cast_2012={}\n",
    "for c in set(cast):\n",
    "    data15 = data[(data.release_year==2012)&(data.cast.str.contains(c))]\n",
    "    rev_sum = data15.revenue.sum()\n",
    "    cast_2012[c] = rev_sum\n",
    "get_max(cast_2012)\n"
   ]
  },
  {
   "cell_type": "markdown",
   "metadata": {
    "colab_type": "text",
    "id": "mWHyyL7QVp_j"
   },
   "source": [
    "# 16. Какой актер снялся в большем количестве высокобюджетных фильмов?"
   ]
  },
  {
   "cell_type": "code",
   "execution_count": 20,
   "metadata": {
    "colab": {},
    "colab_type": "code",
    "id": "qQtmHKTFVp_k"
   },
   "outputs": [
    {
     "data": {
      "text/plain": [
       "'Matt Damon'"
      ]
     },
     "execution_count": 20,
     "metadata": {},
     "output_type": "execute_result"
    }
   ],
   "source": [
    "answers['16'] = '3. Matt Damon' # +\n",
    "\n",
    "data16 = data[data.budget > data.budget.mean()]\n",
    "cast_budg={}\n",
    "for c in set(cast):\n",
    "    fr = data16[(data16.cast.str.contains(c))]\n",
    "    cast_budg[c] = len(fr)\n",
    "get_max(cast_budg)"
   ]
  },
  {
   "cell_type": "markdown",
   "metadata": {
    "colab_type": "text",
    "id": "NIh6AaW5Vp_n"
   },
   "source": [
    "# 17. В фильмах какого жанра больше всего снимался Nicolas Cage? "
   ]
  },
  {
   "cell_type": "code",
   "execution_count": 21,
   "metadata": {
    "colab": {},
    "colab_type": "code",
    "id": "H74SJDIBVp_n"
   },
   "outputs": [
    {
     "data": {
      "text/plain": [
       "'Action'"
      ]
     },
     "execution_count": 21,
     "metadata": {},
     "output_type": "execute_result"
    }
   ],
   "source": [
    "answers['17'] = '2. Action' # +\n",
    "\n",
    "data17 = data[data.cast.str.contains('Nicolas Cage')]\n",
    "cage_genres = []\n",
    "data17.genres.apply(lambda x: cage_genres.extend(x.split('|'))) # Массив неуникальных жанров\n",
    "get_max(Counter(cage_genres))"
   ]
  },
  {
   "cell_type": "markdown",
   "metadata": {
    "colab_type": "text",
    "id": "RqOmPRfWVp_q"
   },
   "source": [
    "# 18. Самый убыточный фильм от Paramount Pictures"
   ]
  },
  {
   "cell_type": "code",
   "execution_count": 22,
   "metadata": {
    "colab": {},
    "colab_type": "code",
    "id": "9E_B0Y96Vp_r"
   },
   "outputs": [
    {
     "data": {
      "text/plain": [
       "'K-19: The Widowmaker'"
      ]
     },
     "execution_count": 22,
     "metadata": {},
     "output_type": "execute_result"
    }
   ],
   "source": [
    "answers['18'] = '1. K-19: The Widowmaker' # +\n",
    "\n",
    "data18 = data[data.production_companies.str.contains('Paramount Pictures')]\n",
    "get_title(data18[data18.profit == data18.profit.min()])"
   ]
  },
  {
   "cell_type": "markdown",
   "metadata": {
    "colab_type": "text",
    "id": "vS8Ur6ddVp_u"
   },
   "source": [
    "# 19. Какой год стал самым успешным по суммарным кассовым сборам?"
   ]
  },
  {
   "cell_type": "code",
   "execution_count": 23,
   "metadata": {
    "colab": {},
    "colab_type": "code",
    "id": "Dnbt4GdIVp_v"
   },
   "outputs": [
    {
     "data": {
      "text/plain": [
       "2015"
      ]
     },
     "execution_count": 23,
     "metadata": {},
     "output_type": "execute_result"
    }
   ],
   "source": [
    "answers['19'] = '5. 2015' # +\n",
    "\n",
    "data19 = data.groupby('release_year')['revenue'].sum().reset_index() # Кассовые сборы, распределенные по годам\n",
    "data19[data19.revenue == data19.revenue.max()].release_year.tolist()[0]"
   ]
  },
  {
   "cell_type": "markdown",
   "metadata": {
    "colab_type": "text",
    "id": "JAzJh4QAVp_z"
   },
   "source": [
    "# 20. Какой самый прибыльный год для студии Warner Bros?"
   ]
  },
  {
   "cell_type": "code",
   "execution_count": 24,
   "metadata": {
    "colab": {},
    "colab_type": "code",
    "id": "wgVu02DEVp_0"
   },
   "outputs": [
    {
     "data": {
      "text/plain": [
       "2014"
      ]
     },
     "execution_count": 24,
     "metadata": {},
     "output_type": "execute_result"
    }
   ],
   "source": [
    "answers['20'] = '1. 2014' # +\n",
    "data20 = data[data.production_companies.str.contains('Warner Bros')].groupby('release_year')['revenue'].sum().reset_index()\n",
    "data20[data20.revenue == data20.revenue.max()].release_year.tolist()[0]"
   ]
  },
  {
   "cell_type": "markdown",
   "metadata": {
    "colab_type": "text",
    "id": "8Im1S2HRVp_4"
   },
   "source": [
    "# 21. В каком месяце за все годы суммарно вышло больше всего фильмов?"
   ]
  },
  {
   "cell_type": "code",
   "execution_count": 25,
   "metadata": {
    "colab": {},
    "colab_type": "code",
    "id": "lev6TH7gVp_4"
   },
   "outputs": [
    {
     "data": {
      "text/plain": [
       "'9'"
      ]
     },
     "execution_count": 25,
     "metadata": {},
     "output_type": "execute_result"
    }
   ],
   "source": [
    "answers['21'] = '4. Сентябрь' # +\n",
    "\n",
    "month_dic = {}\n",
    "for m in data.month.unique():\n",
    "    month_fr = data[data.month == m]\n",
    "    film_num = len(month_fr)\n",
    "    month_dic[m] = film_num\n",
    "get_max(month_dic)"
   ]
  },
  {
   "cell_type": "markdown",
   "metadata": {
    "colab_type": "text",
    "id": "uAJsZ_NeVp_7"
   },
   "source": [
    "# 22. Сколько суммарно вышло фильмов летом? (за июнь, июль, август)"
   ]
  },
  {
   "cell_type": "code",
   "execution_count": 26,
   "metadata": {
    "colab": {},
    "colab_type": "code",
    "id": "Aa-hEREoVp_8"
   },
   "outputs": [
    {
     "data": {
      "text/plain": [
       "450"
      ]
     },
     "execution_count": 26,
     "metadata": {},
     "output_type": "execute_result"
    }
   ],
   "source": [
    "answers['22'] = '2. 450' # +\n",
    "\n",
    "len(data[data.month.isin(['6', '7', '8'])])"
   ]
  },
  {
   "cell_type": "markdown",
   "metadata": {
    "colab_type": "text",
    "id": "G94ppOY1VqAA"
   },
   "source": [
    "# 23. Для какого режиссера зима – самое продуктивное время года? "
   ]
  },
  {
   "cell_type": "code",
   "execution_count": 27,
   "metadata": {
    "colab": {},
    "colab_type": "code",
    "id": "RhNTsamuVqAB"
   },
   "outputs": [
    {
     "data": {
      "text/plain": [
       "'Peter Jackson'"
      ]
     },
     "execution_count": 27,
     "metadata": {},
     "output_type": "execute_result"
    }
   ],
   "source": [
    "answers['23'] = '5. Peter Jackson' # +\n",
    "\n",
    "winter = data[data.month.isin(['12', '1', '2'])]\n",
    "winter_directors = {}\n",
    "for d in directors:\n",
    "    winter_fr = winter[winter.director.str.contains(d)]\n",
    "    films_num = len(winter_fr)\n",
    "    winter_directors[d] = films_num\n",
    "get_max(winter_directors)"
   ]
  },
  {
   "cell_type": "markdown",
   "metadata": {
    "colab_type": "text",
    "id": "RBo0JVjVVqAF"
   },
   "source": [
    "# 24. Какая студия дает самые длинные названия своим фильмам по количеству символов?"
   ]
  },
  {
   "cell_type": "code",
   "execution_count": 28,
   "metadata": {
    "colab": {},
    "colab_type": "code",
    "id": "QRGS8L0iVqAG"
   },
   "outputs": [
    {
     "name": "stderr",
     "output_type": "stream",
     "text": [
      "C:\\Users\\admin\\anaconda3\\lib\\site-packages\\pandas\\core\\strings.py:1952: UserWarning: This pattern has match groups. To actually get the groups, use str.extract.\n",
      "  return func(self, *args, **kwargs)\n"
     ]
    },
    {
     "data": {
      "text/plain": [
       "'Four By Two Productions'"
      ]
     },
     "execution_count": 28,
     "metadata": {},
     "output_type": "execute_result"
    }
   ],
   "source": [
    "answers['24'] = '5. Four By Two Productions' # +\n",
    "\n",
    "studio_titles = {}\n",
    "for stud in set(production_companies):\n",
    "    data24 = data[data.production_companies.str.contains(stud)]\n",
    "    mean_w = data24.title_len.mean()\n",
    "    studio_titles[stud] = mean_w\n",
    "get_max(studio_titles)"
   ]
  },
  {
   "cell_type": "markdown",
   "metadata": {
    "colab_type": "text",
    "id": "9G0hbvR7VqAK"
   },
   "source": [
    "# 25. Описание фильмов какой студии в среднем самые длинные по количеству слов?"
   ]
  },
  {
   "cell_type": "code",
   "execution_count": 29,
   "metadata": {
    "colab": {},
    "colab_type": "code",
    "id": "Ge2GsLNxVqAK"
   },
   "outputs": [
    {
     "data": {
      "text/plain": [
       "'Midnight Picture Show'"
      ]
     },
     "execution_count": 29,
     "metadata": {},
     "output_type": "execute_result"
    }
   ],
   "source": [
    "answers['25'] = '3. Midnight Picture Show' # +\n",
    "\n",
    "studio_owerviews = {}\n",
    "for stud in set(production_companies):\n",
    "    data25 = data[data.production_companies.str.contains(stud)]\n",
    "    mean_w = data25.len_overview.mean()\n",
    "    studio_owerviews[stud] = mean_w\n",
    "get_max(studio_owerviews)"
   ]
  },
  {
   "cell_type": "markdown",
   "metadata": {
    "colab_type": "text",
    "id": "FJ1AFt90VqAP"
   },
   "source": [
    "# 26. Какие фильмы входят в 1 процент лучших по рейтингу? \n",
    "по vote_average"
   ]
  },
  {
   "cell_type": "code",
   "execution_count": 30,
   "metadata": {
    "colab": {},
    "colab_type": "code",
    "id": "8qmJVq4CVqAQ"
   },
   "outputs": [
    {
     "data": {
      "text/plain": [
       "['Inside Out',\n",
       " 'Room',\n",
       " 'Interstellar',\n",
       " 'Guardians of the Galaxy',\n",
       " 'The Imitation Game',\n",
       " 'Gone Girl',\n",
       " 'The Grand Budapest Hotel',\n",
       " 'Inception',\n",
       " 'The Dark Knight',\n",
       " 'The Pianist',\n",
       " 'The Lord of the Rings: The Return of the King',\n",
       " 'The Wolf of Wall Street',\n",
       " '12 Years a Slave',\n",
       " 'Memento']"
      ]
     },
     "execution_count": 30,
     "metadata": {},
     "output_type": "execute_result"
    }
   ],
   "source": [
    "answers['26'] = '1. Inside Out, The Dark Knight, 12 Years a Slave' # +\n",
    "\n",
    "data26 = data[data.vote_average.quantile(0.99) < data.vote_average] # Создаем фрейм с рейтингом больше чем 99 квантиль\n",
    "data26.original_title.tolist()"
   ]
  },
  {
   "cell_type": "markdown",
   "metadata": {
    "colab_type": "text",
    "id": "MdXsUXbCVqAV"
   },
   "source": [
    "# 27. Какие актеры чаще всего снимаются в одном фильме вместе?\n"
   ]
  },
  {
   "cell_type": "code",
   "execution_count": 31,
   "metadata": {},
   "outputs": [
    {
     "data": {
      "text/plain": [
       "[(('Daniel Radcliffe', 'Emma Watson'), 8),\n",
       " (('Daniel Radcliffe', 'Rupert Grint'), 8),\n",
       " (('Emma Watson', 'Rupert Grint'), 8),\n",
       " (('Ben Stiller', 'Owen Wilson'), 6),\n",
       " (('Helena Bonham Carter', 'Johnny Depp'), 6),\n",
       " (('Paul Walker', 'Vin Diesel'), 5),\n",
       " (('Adam Sandler', 'Kevin James'), 5),\n",
       " (('Hugh Jackman', 'Ian McKellen'), 5),\n",
       " (('Kristen Stewart', 'Robert Pattinson'), 5),\n",
       " (('Kristen Stewart', 'Taylor Lautner'), 5),\n",
       " (('Robert Pattinson', 'Taylor Lautner'), 5),\n",
       " (('Chris Evans', 'Scarlett Johansson'), 4),\n",
       " (('Jennifer Lawrence', 'Josh Hutcherson'), 4),\n",
       " (('Jennifer Lawrence', 'Liam Hemsworth'), 4),\n",
       " (('Jennifer Lawrence', 'Woody Harrelson'), 4),\n",
       " (('Josh Hutcherson', 'Liam Hemsworth'), 4),\n",
       " (('Josh Hutcherson', 'Woody Harrelson'), 4),\n",
       " (('Liam Hemsworth', 'Woody Harrelson'), 4),\n",
       " (('Hugh Jackman', 'Patrick Stewart'), 4),\n",
       " (('Ian McKellen', 'Patrick Stewart'), 4),\n",
       " (('George Clooney', 'Matt Damon'), 4),\n",
       " (('Bradley Cooper', 'Justin Bartha'), 4),\n",
       " (('Betsy Russell', 'Costas Mandylor'), 4),\n",
       " (('Betsy Russell', 'Tobin Bell'), 4),\n",
       " (('Costas Mandylor', 'Tobin Bell'), 4),\n",
       " (('Jordana Brewster', 'Paul Walker'), 4),\n",
       " (('Jordana Brewster', 'Vin Diesel'), 4),\n",
       " (('Cameron Diaz', 'Eddie Murphy'), 4),\n",
       " (('Cameron Diaz', 'Mike Myers'), 4),\n",
       " (('Eddie Murphy', 'Mike Myers'), 4),\n",
       " (('Kristen Stewart', 'Peter Facinelli'), 4),\n",
       " (('Peter Facinelli', 'Robert Pattinson'), 4),\n",
       " (('Peter Facinelli', 'Taylor Lautner'), 4),\n",
       " (('Paul Rudd', 'Steve Carell'), 4),\n",
       " (('Brad Pitt', 'George Clooney'), 4),\n",
       " (('Brad Pitt', 'Julia Roberts'), 4),\n",
       " (('Halle Berry', 'Hugh Jackman'), 4),\n",
       " (('Christian Bale', 'Michael Caine'), 4),\n",
       " (('Dwayne Johnson', 'Paul Walker'), 3),\n",
       " (('Dwayne Johnson', 'Vin Diesel'), 3),\n",
       " (('Michelle Rodriguez', 'Paul Walker'), 3),\n",
       " (('Michelle Rodriguez', 'Vin Diesel'), 3),\n",
       " (('Mark Ruffalo', 'Robert Downey Jr.'), 3),\n",
       " (('Robert Downey Jr.', 'Scarlett Johansson'), 3),\n",
       " (('Famke Janssen', 'Liam Neeson'), 3),\n",
       " (('Famke Janssen', 'Maggie Grace'), 3),\n",
       " (('Liam Neeson', 'Maggie Grace'), 3),\n",
       " (('Elizabeth Banks', 'Jennifer Lawrence'), 3),\n",
       " (('Elizabeth Banks', 'Josh Hutcherson'), 3),\n",
       " (('Elizabeth Banks', 'Liam Hemsworth'), 3),\n",
       " (('Elizabeth Banks', 'Woody Harrelson'), 3),\n",
       " (('Tom Cruise', 'Ving Rhames'), 3),\n",
       " (('Giovanni Ribisi', 'Mark Wahlberg'), 3),\n",
       " (('Johnny Depp', 'Paul Bettany'), 3),\n",
       " (('Adam Sandler', 'Steve Buscemi'), 3),\n",
       " (('Ian McKellen', 'Martin Freeman'), 3),\n",
       " (('Ian McKellen', 'Richard Armitage'), 3),\n",
       " (('Martin Freeman', 'Richard Armitage'), 3),\n",
       " (('Ben Stiller', 'Robin Williams'), 3),\n",
       " (('Jason Bateman', 'Jennifer Aniston'), 3),\n",
       " (('James Franco', 'Seth Rogen'), 3),\n",
       " (('Jay Baruchel', 'Jonah Hill'), 3),\n",
       " (('Arnold Schwarzenegger', 'Sylvester Stallone'), 3),\n",
       " (('Jason Statham', 'Sylvester Stallone'), 3),\n",
       " (('Jennifer Connelly', 'Russell Crowe'), 3),\n",
       " (('Ashley Judd', 'Morgan Freeman'), 3),\n",
       " (('Bradley Cooper', 'Ed Helms'), 3),\n",
       " (('Bradley Cooper', 'Zach Galifianakis'), 3),\n",
       " (('Ed Helms', 'Justin Bartha'), 3),\n",
       " (('Ed Helms', 'Zach Galifianakis'), 3),\n",
       " (('Justin Bartha', 'Zach Galifianakis'), 3),\n",
       " (('Ashley Greene', 'Kristen Stewart'), 3),\n",
       " (('Ashley Greene', 'Robert Pattinson'), 3),\n",
       " (('Ashley Greene', 'Taylor Lautner'), 3),\n",
       " (('Paul Rudd', 'Seth Rogen'), 3),\n",
       " (('Bradley Cooper', 'Ken Jeong'), 3),\n",
       " (('David Cross', 'Jason Lee'), 3),\n",
       " (('David Cross', 'Justin Long'), 3),\n",
       " (('Jason Lee', 'Justin Long'), 3),\n",
       " (('Jason Segel', 'Paul Rudd'), 3),\n",
       " (('Josh Duhamel', 'Shia LaBeouf'), 3),\n",
       " (('Jonah Hill', 'Seth Rogen'), 3),\n",
       " (('Gwyneth Paltrow', 'Robert Downey Jr.'), 3),\n",
       " (('Daniel Radcliffe', 'Ralph Fiennes'), 3),\n",
       " (('Emma Watson', 'Ralph Fiennes'), 3),\n",
       " (('Ralph Fiennes', 'Rupert Grint'), 3),\n",
       " (('Georgie Henley', 'Skandar Keynes'), 3),\n",
       " (('Ben Stiller', 'Robert De Niro'), 3),\n",
       " (('Antonio Banderas', 'Cameron Diaz'), 3),\n",
       " (('Antonio Banderas', 'Eddie Murphy'), 3),\n",
       " (('Antonio Banderas', 'Julie Andrews'), 3),\n",
       " (('Antonio Banderas', 'Mike Myers'), 3),\n",
       " (('Cameron Diaz', 'Julie Andrews'), 3),\n",
       " (('Eddie Murphy', 'Julie Andrews'), 3),\n",
       " (('Julie Andrews', 'Mike Myers'), 3),\n",
       " (('Emily Blunt', 'Jason Segel'), 3),\n",
       " (('Rachael Harris', 'Steve Zahn'), 3),\n",
       " (('Rachael Harris', 'Zachary Gordon'), 3),\n",
       " (('Steve Zahn', 'Zachary Gordon'), 3),\n",
       " (('Elijah Wood', 'Ian McKellen'), 3),\n",
       " (('Elijah Wood', 'Liv Tyler'), 3),\n",
       " (('Elijah Wood', 'Orlando Bloom'), 3),\n",
       " (('Elijah Wood', 'Viggo Mortensen'), 3),\n",
       " (('Ian McKellen', 'Liv Tyler'), 3),\n",
       " (('Ian McKellen', 'Orlando Bloom'), 3),\n",
       " (('Ian McKellen', 'Viggo Mortensen'), 3),\n",
       " (('Liv Tyler', 'Orlando Bloom'), 3),\n",
       " (('Liv Tyler', 'Viggo Mortensen'), 3),\n",
       " (('Orlando Bloom', 'Viggo Mortensen'), 3),\n",
       " (('Jason Biggs', 'Seann William Scott'), 3),\n",
       " (('Jason Biggs', 'Thomas Ian Nicholas'), 3),\n",
       " (('Seann William Scott', 'Thomas Ian Nicholas'), 3),\n",
       " (('Marlon Wayans', 'Shawn Wayans'), 3),\n",
       " (('Alexa PenaVega', 'Antonio Banderas'), 3),\n",
       " (('Alexa PenaVega', 'Carla Gugino'), 3),\n",
       " (('Alexa PenaVega', 'Daryl Sabara'), 3),\n",
       " (('Antonio Banderas', 'Carla Gugino'), 3),\n",
       " (('Antonio Banderas', 'Daryl Sabara'), 3),\n",
       " (('Carla Gugino', 'Daryl Sabara'), 3),\n",
       " (('Christian Bale', 'Gary Oldman'), 3),\n",
       " (('Gary Oldman', 'Michael Caine'), 3),\n",
       " (('Daniel Craig', 'Judi Dench'), 3),\n",
       " (('Angelina Jolie', 'Jack Black'), 3),\n",
       " (('Ben Stiller', 'Chris Rock'), 3),\n",
       " (('Ben Stiller', 'David Schwimmer'), 3),\n",
       " (('Chris Rock', 'David Schwimmer'), 3),\n",
       " (('John Hurt', 'Ron Perlman'), 3),\n",
       " (('Hayden Christensen', 'Samuel L. Jackson'), 3),\n",
       " (('FranÃ§ois BerlÃ©and', 'Jason Statham'), 3),\n",
       " (('Danny McBride', 'James Franco'), 3),\n",
       " (('John Cho', 'Kal Penn'), 3),\n",
       " (('John Cho', 'Neil Patrick Harris'), 3),\n",
       " (('Kal Penn', 'Neil Patrick Harris'), 3),\n",
       " (('Amy Adams', 'Philip Seymour Hoffman'), 3),\n",
       " (('Geoffrey Rush', 'Johnny Depp'), 3),\n",
       " (('Bill Nighy', 'Johnny Depp'), 3),\n",
       " (('Jude Law', 'Kate Winslet'), 3),\n",
       " (('Denis Leary', 'John Leguizamo'), 3),\n",
       " (('Denis Leary', 'Ray Romano'), 3),\n",
       " (('John Leguizamo', 'Ray Romano'), 3),\n",
       " (('James Franco', 'Kirsten Dunst'), 3),\n",
       " (('James Franco', 'Tobey Maguire'), 3),\n",
       " (('Kirsten Dunst', 'Tobey Maguire'), 3),\n",
       " (('Spencer Breslin', 'Tim Allen'), 3),\n",
       " (('Denzel Washington', 'Kimberly Elise'), 3),\n",
       " (('Ice Cube', 'Mike Epps'), 3),\n",
       " (('Johnny Depp', 'Keira Knightley'), 3),\n",
       " (('Johnny Depp', 'Orlando Bloom'), 3),\n",
       " (('Keira Knightley', 'Orlando Bloom'), 3),\n",
       " (('Famke Janssen', 'Halle Berry'), 3),\n",
       " (('Famke Janssen', 'Hugh Jackman'), 3),\n",
       " (('Famke Janssen', 'Ian McKellen'), 3),\n",
       " (('Famke Janssen', 'Patrick Stewart'), 3),\n",
       " (('Halle Berry', 'Ian McKellen'), 3),\n",
       " (('Halle Berry', 'Patrick Stewart'), 3),\n",
       " (('Owen Wilson', 'Vince Vaughn'), 3),\n",
       " (('Bruce Willis', 'Kevin Pollak'), 3),\n",
       " (('Ansel Elgort', 'Shailene Woodley'), 2),\n",
       " (('Kate Winslet', 'Miles Teller'), 2),\n",
       " (('Kate Winslet', 'Shailene Woodley'), 2),\n",
       " (('Kate Winslet', 'Theo James'), 2),\n",
       " (('Miles Teller', 'Shailene Woodley'), 2),\n",
       " (('Miles Teller', 'Theo James'), 2),\n",
       " (('Shailene Woodley', 'Theo James'), 2),\n",
       " (('Leonardo DiCaprio', 'Tom Hardy'), 2),\n",
       " (('Daniel Craig', 'Ralph Fiennes'), 2),\n",
       " (('Chris Evans', 'Chris Hemsworth'), 2),\n",
       " (('Chris Evans', 'Mark Ruffalo'), 2),\n",
       " (('Chris Evans', 'Robert Downey Jr.'), 2),\n",
       " (('Chris Hemsworth', 'Mark Ruffalo'), 2),\n",
       " (('Chris Hemsworth', 'Robert Downey Jr.'), 2),\n",
       " (('Chris Hemsworth', 'Scarlett Johansson'), 2),\n",
       " (('Mark Ruffalo', 'Scarlett Johansson'), 2),\n",
       " (('Carla Gugino', 'Dwayne Johnson'), 2),\n",
       " (('Christian Bale', 'Melissa Leo'), 2),\n",
       " (('Ryan Gosling', 'Steve Carell'), 2),\n",
       " (('Jeremy Renner', 'Simon Pegg'), 2),\n",
       " (('Jeremy Renner', 'Tom Cruise'), 2),\n",
       " (('Simon Pegg', 'Tom Cruise'), 2),\n",
       " (('Giovanni Ribisi', 'Seth MacFarlane'), 2),\n",
       " (('Mark Wahlberg', 'Seth MacFarlane'), 2),\n",
       " ((\"Dylan O'Brien\", 'Kaya Scodelario'), 2),\n",
       " (('Anna Kendrick', 'Brittany Snow'), 2),\n",
       " (('Anna Kendrick', 'Rebel Wilson'), 2),\n",
       " (('Anna Kendrick', 'Skylar Astin'), 2),\n",
       " (('Brittany Snow', 'Rebel Wilson'), 2),\n",
       " (('Brittany Snow', 'Skylar Astin'), 2),\n",
       " (('Rebel Wilson', 'Skylar Astin'), 2),\n",
       " (('Boyd Holbrook', 'Liam Neeson'), 2),\n",
       " (('Jim Parsons', 'Steve Martin'), 2),\n",
       " (('Rene Russo', 'Robert De Niro'), 2),\n",
       " (('Delroy Lindo', 'Edgar RamÃ\\xadrez'), 2),\n",
       " (('Bradley Cooper', 'Sienna Miller'), 2),\n",
       " (('Michael B. Jordan', 'Miles Teller'), 2),\n",
       " (('Bobby Cannavale', 'Rose Byrne'), 2),\n",
       " (('Ben Whishaw', 'Brendan Gleeson'), 2),\n",
       " (('Amanda Seyfried', 'Hugh Jackman'), 2),\n",
       " (('Joseph Gordon-Levitt', 'Seth Rogen'), 2),\n",
       " (('Lizzy Caplan', 'Seth Rogen'), 2),\n",
       " (('Adam Sandler', 'Andy Samberg'), 2),\n",
       " (('Adam Sandler', 'Selena Gomez'), 2),\n",
       " (('Kevin James', 'Selena Gomez'), 2),\n",
       " (('Kevin James', 'Steve Buscemi'), 2),\n",
       " (('Selena Gomez', 'Steve Buscemi'), 2),\n",
       " (('Alan Arkin', 'John Goodman'), 2),\n",
       " (('Gary Oldman', 'Joel Kinnaman'), 2),\n",
       " (('Gary Oldman', 'Tom Hardy'), 2),\n",
       " (('Mark Wahlberg', 'Will Ferrell'), 2),\n",
       " (('Kevin James', 'Raini Rodriguez'), 2),\n",
       " (('Amy Poehler', 'Tina Fey'), 2),\n",
       " (('Jessica Chastain', 'Mia Wasikowska'), 2),\n",
       " (('Bill Fagerbakke', 'Carolyn Lawrence'), 2),\n",
       " (('Bill Fagerbakke', 'Clancy Brown'), 2),\n",
       " (('Bill Fagerbakke', 'Rodger Bumpass'), 2),\n",
       " (('Bill Fagerbakke', 'Tom Kenny'), 2),\n",
       " (('Carolyn Lawrence', 'Clancy Brown'), 2),\n",
       " (('Carolyn Lawrence', 'Rodger Bumpass'), 2),\n",
       " (('Carolyn Lawrence', 'Tom Kenny'), 2),\n",
       " (('Clancy Brown', 'Rodger Bumpass'), 2),\n",
       " (('Clancy Brown', 'Tom Kenny'), 2),\n",
       " (('Rodger Bumpass', 'Tom Kenny'), 2),\n",
       " (('Morris Chestnut', 'Sanaa Lathan'), 2),\n",
       " (('Bill Murray', 'Bruce Willis'), 2),\n",
       " (('Anne Hathaway', 'Michael Caine'), 2),\n",
       " (('Bradley Cooper', 'Zoe Saldana'), 2),\n",
       " (('Chris Evans', 'Sebastian Stan'), 2),\n",
       " (('Samuel L. Jackson', 'Scarlett Johansson'), 2),\n",
       " (('Graham McTavish', 'Ian McKellen'), 2),\n",
       " (('Graham McTavish', 'Ken Stott'), 2),\n",
       " (('Graham McTavish', 'Martin Freeman'), 2),\n",
       " (('Graham McTavish', 'Richard Armitage'), 2),\n",
       " (('Ian McKellen', 'Ken Stott'), 2),\n",
       " (('Ken Stott', 'Martin Freeman'), 2),\n",
       " (('Ken Stott', 'Richard Armitage'), 2),\n",
       " (('Owen Wilson', 'Robin Williams'), 2),\n",
       " (('James McAvoy', 'Michael Fassbender'), 2),\n",
       " (('James McAvoy', 'Patrick Stewart'), 2),\n",
       " (('Megan Fox', 'Will Arnett'), 2),\n",
       " (('Cameron Diaz', 'Jason Segel'), 2),\n",
       " (('Mark Wahlberg', 'Stanley Tucci'), 2),\n",
       " (('Andy Serkis', 'Judy Greer'), 2),\n",
       " (('Charlie Day', 'Jason Bateman'), 2),\n",
       " (('Charlie Day', 'Jason Sudeikis'), 2),\n",
       " (('Charlie Day', 'Jennifer Aniston'), 2),\n",
       " (('Jason Bateman', 'Jason Sudeikis'), 2),\n",
       " (('Jason Sudeikis', 'Jennifer Aniston'), 2),\n",
       " (('Andrew Garfield', 'Emma Stone'), 2),\n",
       " (('James Franco', 'Lizzy Caplan'), 2),\n",
       " (('Gerard Butler', 'Jay Baruchel'), 2),\n",
       " (('Gerard Butler', 'Jonah Hill'), 2),\n",
       " (('Arnold Schwarzenegger', 'Jason Statham'), 2),\n",
       " (('Emily Blunt', 'Meryl Streep'), 2),\n",
       " (('David Wenham', 'Lena Headey'), 2),\n",
       " (('Channing Tatum', 'Dave Franco'), 2),\n",
       " (('Channing Tatum', 'Jonah Hill'), 2),\n",
       " (('Dave Franco', 'Jonah Hill'), 2),\n",
       " (('Ben Whishaw', 'Michael Gambon'), 2),\n",
       " (('Emma Watson', 'Logan Lerman'), 2),\n",
       " (('Logan Lerman', 'Russell Crowe'), 2),\n",
       " (('Adam Sandler', 'Drew Barrymore'), 2),\n",
       " (('Dave Franco', 'Zac Efron'), 2),\n",
       " (('Ryan Guzman', 'Stephen Boss'), 2),\n",
       " (('Joaquin Phoenix', 'Reese Witherspoon'), 2),\n",
       " (('Owen Wilson', 'Reese Witherspoon'), 2),\n",
       " (('Julianne Moore', 'Liam Neeson'), 2),\n",
       " (('Jessica Alba', 'Josh Brolin'), 2),\n",
       " (('Jessica Alba', 'Rosario Dawson'), 2),\n",
       " (('Anne Hathaway', 'Jesse Eisenberg'), 2),\n",
       " (('Anne Hathaway', 'Leslie Mann'), 2),\n",
       " (('Jesse Eisenberg', 'Leslie Mann'), 2),\n",
       " (('Bill Murray', 'Cate Blanchett'), 2),\n",
       " (('Bill Murray', 'George Clooney'), 2),\n",
       " (('Cate Blanchett', 'George Clooney'), 2),\n",
       " (('George Clooney', 'John Goodman'), 2),\n",
       " (('Carrie-Anne Moss', 'Kit Harington'), 2),\n",
       " (('Channing Tatum', 'Sienna Miller'), 2),\n",
       " (('Imogen Poots', 'Zac Efron'), 2),\n",
       " (('Kevin Hart', 'Michael Ealy'), 2),\n",
       " (('Kevin Hart', 'Regina Hall'), 2),\n",
       " (('Michael Ealy', 'Regina Hall'), 2),\n",
       " (('Ashley Judd', 'Harry Connick Jr.'), 2),\n",
       " (('Ashley Judd', 'Nathan Gamble'), 2),\n",
       " (('Harry Connick Jr.', 'Morgan Freeman'), 2),\n",
       " (('Harry Connick Jr.', 'Nathan Gamble'), 2),\n",
       " (('Morgan Freeman', 'Nathan Gamble'), 2),\n",
       " (('Bill Nighy', 'Michael Sheen'), 2),\n",
       " (('Bill Nighy', 'Shane Brolly'), 2),\n",
       " (('Michael Sheen', 'Shane Brolly'), 2),\n",
       " (('Chris Pine', 'Zachary Quinto'), 2),\n",
       " (('Jude Law', 'Robert Downey Jr.'), 2),\n",
       " (('Amanda Peet', 'John Cusack'), 2),\n",
       " (('Christopher Plummer', 'Jennifer Connelly'), 2),\n",
       " (('Jennifer Connelly', 'John C. Reilly'), 2),\n",
       " (('Jesse Eisenberg', 'Woody Harrelson'), 2),\n",
       " (('Billy Burke', 'Kristen Stewart'), 2),\n",
       " (('Billy Burke', 'Robert Pattinson'), 2),\n",
       " (('Billy Burke', 'Taylor Lautner'), 2),\n",
       " (('Anna Faris', 'Bill Hader'), 2),\n",
       " (('Anna Faris', 'James Caan'), 2),\n",
       " (('Bill Hader', 'James Caan'), 2),\n",
       " (('Stanley Tucci', 'Susan Sarandon'), 2),\n",
       " (('Amy Smart', 'Dwight Yoakam'), 2),\n",
       " (('Amy Smart', 'Efren Ramirez'), 2),\n",
       " (('Amy Smart', 'Jason Statham'), 2),\n",
       " (('Dwight Yoakam', 'Efren Ramirez'), 2),\n",
       " (('Dwight Yoakam', 'Jason Statham'), 2),\n",
       " (('Efren Ramirez', 'Jason Statham'), 2),\n",
       " (('Jason Bateman', 'Jon Favreau'), 2),\n",
       " (('Jon Favreau', 'Vince Vaughn'), 2),\n",
       " (('Charlize Theron', 'Guy Pearce'), 2),\n",
       " (('Paul Rudd', 'Reese Witherspoon'), 2),\n",
       " (('Amy Adams', 'Meryl Streep'), 2),\n",
       " (('Meryl Streep', 'Stanley Tucci'), 2),\n",
       " (('Billy Crudup', 'Marion Cotillard'), 2),\n",
       " (('Giovanni Ribisi', 'Johnny Depp'), 2),\n",
       " (('Ben Affleck', 'Jason Bateman'), 2),\n",
       " (('Matt Damon', 'Scott Bakula'), 2),\n",
       " (('Emma Thompson', 'Rhys Ifans'), 2),\n",
       " (('Betsy Russell', 'Mark Rolston'), 2),\n",
       " (('Costas Mandylor', 'Mark Rolston'), 2),\n",
       " (('Mark Rolston', 'Tobin Bell'), 2),\n",
       " (('Josh Duhamel', 'Megan Fox'), 2),\n",
       " (('Josh Duhamel', 'Tyrese Gibson'), 2),\n",
       " (('Megan Fox', 'Shia LaBeouf'), 2),\n",
       " (('Megan Fox', 'Tyrese Gibson'), 2),\n",
       " (('Shia LaBeouf', 'Tyrese Gibson'), 2),\n",
       " (('Jeff Bridges', 'Kevin Spacey'), 2),\n",
       " (('Dwayne Johnson', 'Seann William Scott'), 2),\n",
       " (('Justin Long', 'Matt Dillon'), 2),\n",
       " (('Eva Mendes', 'Nicolas Cage'), 2),\n",
       " (('Leslie Mann', 'Seth Rogen'), 2),\n",
       " (('Armin Mueller-Stahl', 'Naomi Watts'), 2),\n",
       " (('Jordana Brewster', 'Michelle Rodriguez'), 2),\n",
       " (('Brad Dourif', 'Scout Taylor-Compton'), 2),\n",
       " (('Brad Dourif', 'Tyler Mane'), 2),\n",
       " (('Scout Taylor-Compton', 'Tyler Mane'), 2),\n",
       " (('Clive Owen', 'Julia Roberts'), 2),\n",
       " (('Clive Owen', 'Paul Giamatti'), 2),\n",
       " (('Julia Roberts', 'Paul Giamatti'), 2),\n",
       " (('Jason Bateman', 'Kristen Wiig'), 2),\n",
       " (('Jamie Foxx', 'Robert Downey Jr.'), 2),\n",
       " (('Emily Mortimer', 'Michael Caine'), 2),\n",
       " (('Danny Huston', 'Lynn Collins'), 2),\n",
       " (('Don Cheadle', 'Gwyneth Paltrow'), 2),\n",
       " (('Don Cheadle', 'Robert Downey Jr.'), 2),\n",
       " (('Helena Bonham Carter', 'Ralph Fiennes'), 2),\n",
       " (('Jason Segel', 'Russell Brand'), 2),\n",
       " (('Russell Brand', 'Steve Carell'), 2),\n",
       " (('Steve Carell', 'Will Arnett'), 2),\n",
       " (('Dolph Lundgren', 'Jason Statham'), 2),\n",
       " (('Dolph Lundgren', 'Sylvester Stallone'), 2),\n",
       " (('Mark Strong', 'Russell Crowe'), 2),\n",
       " (('Liam Neeson', 'Ralph Fiennes'), 2),\n",
       " (('Liam Neeson', 'Sam Worthington'), 2),\n",
       " (('Ralph Fiennes', 'Sam Worthington'), 2),\n",
       " (('Barbra Streisand', 'Ben Stiller'), 2),\n",
       " (('Barbra Streisand', 'Dustin Hoffman'), 2),\n",
       " (('Barbra Streisand', 'Robert De Niro'), 2),\n",
       " (('Ben Stiller', 'Dustin Hoffman'), 2),\n",
       " (('Dustin Hoffman', 'Robert De Niro'), 2),\n",
       " (('Owen Wilson', 'Robert De Niro'), 2),\n",
       " (('Alexandra Daddario', 'Brandon T. Jackson'), 2),\n",
       " (('Alexandra Daddario', 'Logan Lerman'), 2),\n",
       " (('Brandon T. Jackson', 'Logan Lerman'), 2),\n",
       " (('Channing Tatum', 'Richard Jenkins'), 2),\n",
       " (('Bradley Cooper', 'Jessica Biel'), 2),\n",
       " (('Danny Trejo', 'Michelle Rodriguez'), 2),\n",
       " (('Adam Sandler', 'Salma Hayek'), 2),\n",
       " (('Ashley Greene', 'Peter Facinelli'), 2),\n",
       " (('Brad Pitt', 'Jonah Hill'), 2),\n",
       " (('Dwayne Johnson', 'Mark Wahlberg'), 2),\n",
       " (('Eva Mendes', 'Mark Wahlberg'), 2),\n",
       " (('Eva Mendes', 'Samuel L. Jackson'), 2),\n",
       " (('Helena Bonham Carter', 'Timothy Spall'), 2),\n",
       " (('Anne Hathaway', 'Jake Gyllenhaal'), 2),\n",
       " (('Cameron Diaz', 'Tom Cruise'), 2),\n",
       " (('Greg Kinnear', 'Matt Damon'), 2),\n",
       " (('Amanda Peet', 'Jack Black'), 2),\n",
       " (('Amy Adams', 'Christian Bale'), 2),\n",
       " (('Ashton Kutcher', 'Katherine Heigl'), 2),\n",
       " (('Chris Noth', 'Cynthia Nixon'), 2),\n",
       " (('Chris Noth', 'Kim Cattrall'), 2),\n",
       " (('Chris Noth', 'Kristin Davis'), 2),\n",
       " (('Chris Noth', 'Sarah Jessica Parker'), 2),\n",
       " (('Cynthia Nixon', 'Kim Cattrall'), 2),\n",
       " (('Cynthia Nixon', 'Kristin Davis'), 2),\n",
       " (('Cynthia Nixon', 'Sarah Jessica Parker'), 2),\n",
       " (('Kim Cattrall', 'Kristin Davis'), 2),\n",
       " (('Kim Cattrall', 'Sarah Jessica Parker'), 2),\n",
       " (('Kristin Davis', 'Sarah Jessica Parker'), 2),\n",
       " (('Emma Thompson', 'Maggie Gyllenhaal'), 2),\n",
       " (('Edward Norton', 'Robert De Niro'), 2),\n",
       " (('Rachael Harris', 'Robert Capron'), 2),\n",
       " (('Robert Capron', 'Steve Zahn'), 2),\n",
       " (('Robert Capron', 'Zachary Gordon'), 2),\n",
       " (('Naomi Watts', 'Sean Penn'), 2),\n",
       " (('Kristen Wiig', 'Maya Rudolph'), 2),\n",
       " (('Andy Serkis', 'Simon Pegg'), 2),\n",
       " (('Janet Jackson', 'Jill Scott'), 2),\n",
       " (('Janet Jackson', 'Malik Yoba'), 2),\n",
       " (('Janet Jackson', 'Tyler Perry'), 2),\n",
       " (('Jill Scott', 'Malik Yoba'), 2),\n",
       " (('Jill Scott', 'Tyler Perry'), 2),\n",
       " (('Malik Yoba', 'Tyler Perry'), 2),\n",
       " (('Ali Larter', 'Milla Jovovich'), 2),\n",
       " (('Billy Crystal', 'John Goodman'), 2),\n",
       " (('Billy Crystal', 'Steve Buscemi'), 2),\n",
       " (('John Goodman', 'Steve Buscemi'), 2),\n",
       " (('Colin Firth', 'Gemma Jones'), 2),\n",
       " (('Colin Firth', 'Hugh Grant'), 2),\n",
       " (('Colin Firth', 'Jim Broadbent'), 2),\n",
       " (('Colin Firth', 'RenÃ©e Zellweger'), 2),\n",
       " (('Gemma Jones', 'Hugh Grant'), 2),\n",
       " (('Gemma Jones', 'Jim Broadbent'), 2),\n",
       " (('Gemma Jones', 'RenÃ©e Zellweger'), 2),\n",
       " (('Hugh Grant', 'Jim Broadbent'), 2),\n",
       " (('Hugh Grant', 'RenÃ©e Zellweger'), 2),\n",
       " (('Jim Broadbent', 'RenÃ©e Zellweger'), 2),\n",
       " (('Andy GarcÃ\\xada', 'Brad Pitt'), 2),\n",
       " (('Andy GarcÃ\\xada', 'George Clooney'), 2),\n",
       " (('Andy GarcÃ\\xada', 'Julia Roberts'), 2),\n",
       " (('Brad Pitt', 'Matt Damon'), 2),\n",
       " (('George Clooney', 'Julia Roberts'), 2),\n",
       " (('Brendan Fraser', 'John Hannah'), 2),\n",
       " (('Angelina Jolie', 'Noah Taylor'), 2),\n",
       " (('Paul Bettany', 'Russell Crowe'), 2),\n",
       " (('Chris Klein', 'Jason Biggs'), 2),\n",
       " (('Chris Klein', 'Seann William Scott'), 2),\n",
       " (('Chris Klein', 'Thomas Ian Nicholas'), 2),\n",
       " (('Eddie Kaye Thomas', 'Jason Biggs'), 2),\n",
       " (('Eddie Kaye Thomas', 'Seann William Scott'), 2),\n",
       " (('Eddie Kaye Thomas', 'Thomas Ian Nicholas'), 2),\n",
       " (('Anne Hathaway', 'Heather Matarazzo'), 2),\n",
       " (('Anne Hathaway', 'HÃ©ctor Elizondo'), 2),\n",
       " (('Anne Hathaway', 'Julie Andrews'), 2),\n",
       " (('Heather Matarazzo', 'HÃ©ctor Elizondo'), 2),\n",
       " (('Heather Matarazzo', 'Julie Andrews'), 2),\n",
       " (('HÃ©ctor Elizondo', 'Julie Andrews'), 2),\n",
       " (('Ewan McGregor', 'Jim Broadbent'), 2),\n",
       " (('Johnny Depp', 'PenÃ©lope Cruz'), 2),\n",
       " (('Jude Law', 'Rachel Weisz'), 2),\n",
       " (('Heath Ledger', 'Shannyn Sossamon'), 2),\n",
       " (('Ben Stiller', 'Christine Taylor'), 2),\n",
       " (('Chris Tucker', 'Jackie Chan'), 2),\n",
       " ((\"Brian O'Halloran\", 'Jason Mewes'), 2),\n",
       " ((\"Brian O'Halloran\", 'Jeff Anderson'), 2),\n",
       " ((\"Brian O'Halloran\", 'Kevin Smith'), 2),\n",
       " (('Jason Mewes', 'Jeff Anderson'), 2),\n",
       " (('Jason Mewes', 'Kevin Smith'), 2),\n",
       " (('Jeff Anderson', 'Kevin Smith'), 2),\n",
       " (('Cameron Diaz', 'PenÃ©lope Cruz'), 2),\n",
       " (('Amy Smart', 'Breckin Meyer'), 2),\n",
       " (('Breckin Meyer', 'Seth Green'), 2),\n",
       " (('Brad Pitt', 'James Gandolfini'), 2),\n",
       " (('Bill Paxton', 'Matthew McConaughey'), 2),\n",
       " (('Anthony Hopkins', 'Hope Davis'), 2),\n",
       " (('Charlize Theron', 'Robert De Niro'), 2),\n",
       " (('Anthony Anderson', 'DMX'), 2),\n",
       " (('DMX', 'Isaiah Washington'), 2),\n",
       " (('Anna Maria Horsford', 'Mike Epps'), 2),\n",
       " (('Amanda Detmer', 'Jason Biggs'), 2),\n",
       " (('John Travolta', 'Vince Vaughn'), 2),\n",
       " (('Freddie Prinze Jr.', 'Matthew Lillard'), 2),\n",
       " (('Cary Elwes', 'Joanna Lumley'), 2),\n",
       " (('Angelina Jolie', 'Dustin Hoffman'), 2),\n",
       " (('Angelina Jolie', 'Jackie Chan'), 2),\n",
       " (('Dustin Hoffman', 'Jack Black'), 2),\n",
       " (('Dustin Hoffman', 'Jackie Chan'), 2),\n",
       " (('Jack Black', 'Jackie Chan'), 2),\n",
       " (('Colin Firth', 'Stellan SkarsgÃ¥rd'), 2),\n",
       " (('Brad Pitt', 'Cate Blanchett'), 2),\n",
       " (('Brad Pitt', 'Tilda Swinton'), 2),\n",
       " (('Ben Stiller', 'Jada Pinkett Smith'), 2),\n",
       " (('Chris Rock', 'Jada Pinkett Smith'), 2),\n",
       " (('David Schwimmer', 'Jada Pinkett Smith'), 2),\n",
       " (('Jeffrey Tambor', 'John Hurt'), 2),\n",
       " (('Jeffrey Tambor', 'Ron Perlman'), 2),\n",
       " (('Jeffrey Tambor', 'Selma Blair'), 2),\n",
       " (('John Hurt', 'Selma Blair'), 2),\n",
       " (('Ron Perlman', 'Selma Blair'), 2),\n",
       " (('Charlize Theron', 'Will Smith'), 2),\n",
       " (('Anna Popplewell', 'Georgie Henley'), 2),\n",
       " (('Anna Popplewell', 'Skandar Keynes'), 2),\n",
       " (('Anna Popplewell', 'William Moseley'), 2),\n",
       " (('Georgie Henley', 'William Moseley'), 2),\n",
       " (('Skandar Keynes', 'William Moseley'), 2),\n",
       " (('David Wenham', 'Hugh Jackman'), 2),\n",
       " (('George Clooney', 'Richard Jenkins'), 2),\n",
       " (('George Clooney', 'Tilda Swinton'), 2),\n",
       " (('John C. Reilly', 'Will Ferrell'), 2),\n",
       " (('Mary Steenburgen', 'Will Ferrell'), 2),\n",
       " (('Kate Hudson', 'Matthew McConaughey'), 2),\n",
       " (('Danny McBride', 'Seth Rogen'), 2),\n",
       " (('Mark Wahlberg', 'Mila Kunis'), 2),\n",
       " (('Sigourney Weaver', 'William Hurt'), 2),\n",
       " (('Elizabeth Banks', 'Paul Rudd'), 2),\n",
       " (('Angelina Jolie', 'John Malkovich'), 2),\n",
       " (('Betsy Russell', 'Scott Patterson'), 2),\n",
       " (('Costas Mandylor', 'Scott Patterson'), 2),\n",
       " (('Scott Patterson', 'Tobin Bell'), 2),\n",
       " (('Javier Bardem', 'PenÃ©lope Cruz'), 2),\n",
       " (('Jim Carrey', 'Steve Carell'), 2),\n",
       " (('Seth Rogen', 'Steve Carell'), 2),\n",
       " (('Carla Gugino', 'Robert De Niro'), 2),\n",
       " (('Adam Sandler', 'John Turturro'), 2),\n",
       " (('Daniel Craig', 'Jamie Bell'), 2),\n",
       " (('Josh Brolin', 'Sean Penn'), 2),\n",
       " (('Cheryl Hines', 'Jeff Daniels'), 2),\n",
       " (('Kerry Washington', 'Samuel L. Jackson'), 2),\n",
       " (('Bruce Willis', 'Robin Wright'), 2),\n",
       " (('Anthony Hopkins', 'Chris Hemsworth'), 2),\n",
       " (('Anthony Hopkins', 'Natalie Portman'), 2),\n",
       " (('Anthony Hopkins', 'Tom Hiddleston'), 2),\n",
       " (('Chris Hemsworth', 'Natalie Portman'), 2),\n",
       " (('Chris Hemsworth', 'Tom Hiddleston'), 2),\n",
       " (('Natalie Portman', 'Tom Hiddleston'), 2),\n",
       " (('Emma Stone', 'Ryan Gosling'), 2),\n",
       " (('Marisa Tomei', 'Ryan Gosling'), 2),\n",
       " (('Bradley Cooper', 'Robert De Niro'), 2),\n",
       " (('Colin Farrell', 'Jason Sudeikis'), 2),\n",
       " (('Larry the Cable Guy', 'Owen Wilson'), 2),\n",
       " (('Ed Helms', 'Ken Jeong'), 2),\n",
       " (('Justin Bartha', 'Ken Jeong'), 2),\n",
       " (('Ken Jeong', 'Zach Galifianakis'), 2),\n",
       " (('Nick Frost', 'Simon Pegg'), 2),\n",
       " (('Alfred Molina', 'Johnny Depp'), 2),\n",
       " (('Asa Butterfield', 'Ben Kingsley'), 2),\n",
       " (('Matthew McConaughey', 'William H. Macy'), 2),\n",
       " (('Bud Luckey', 'Jim Cummings'), 2),\n",
       " (('Craig Ferguson', 'Jim Cummings'), 2),\n",
       " (('Jim Cummings', 'Travis Oates'), 2),\n",
       " (('Julia Roberts', 'Tom Hanks'), 2),\n",
       " (('Antonio Banderas', 'Salma Hayek'), 2),\n",
       " (('Gwyneth Paltrow', 'Jude Law'), 2),\n",
       " (('Katherine Heigl', 'Robert De Niro'), 2),\n",
       " (('Johnny A. Sanchez', 'Robin Williams'), 2),\n",
       " (('Courteney Cox', 'David Arquette'), 2),\n",
       " (('Courteney Cox', 'Neve Campbell'), 2),\n",
       " (('David Arquette', 'Neve Campbell'), 2),\n",
       " (('Devon Bostick', 'Rachael Harris'), 2),\n",
       " (('Devon Bostick', 'Steve Zahn'), 2),\n",
       " (('Devon Bostick', 'Zachary Gordon'), 2),\n",
       " (('Bill Nighy', 'Judi Dench'), 2),\n",
       " (('Hank Azaria', 'Neil Patrick Harris'), 2),\n",
       " (('Cate Blanchett', 'Tom Hollander'), 2),\n",
       " (('James McAvoy', 'Julie Walters'), 2),\n",
       " (('James McAvoy', 'Maggie Smith'), 2),\n",
       " (('Julie Walters', 'Maggie Smith'), 2),\n",
       " (('Marisa Tomei', 'Philip Seymour Hoffman'), 2),\n",
       " (('Katie Featherston', 'Sprague Grayden'), 2),\n",
       " (('Viggo Mortensen', 'Vincent Cassel'), 2),\n",
       " (('Glenn Close', 'Patrick Warburton'), 2),\n",
       " (('Dwayne Johnson', 'Jordana Brewster'), 2),\n",
       " (('Jordana Brewster', 'Tyrese Gibson'), 2),\n",
       " (('Paul Walker', 'Tyrese Gibson'), 2),\n",
       " (('Brian Cox', 'Franka Potente'), 2),\n",
       " (('Brian Cox', 'Matt Damon'), 2),\n",
       " (('Chris Cooper', 'Matt Damon'), 2),\n",
       " (('Franka Potente', 'Matt Damon'), 2),\n",
       " (('Michelle Rodriguez', 'Milla Jovovich'), 2),\n",
       " (('Ewan McGregor', 'Hayden Christensen'), 2),\n",
       " (('Ewan McGregor', 'Ian McDiarmid'), 2),\n",
       " (('Ewan McGregor', 'Natalie Portman'), 2),\n",
       " (('Ewan McGregor', 'Samuel L. Jackson'), 2),\n",
       " (('Hayden Christensen', 'Ian McDiarmid'), 2),\n",
       " (('Hayden Christensen', 'Natalie Portman'), 2),\n",
       " (('Ian McDiarmid', 'Natalie Portman'), 2),\n",
       " (('Ian McDiarmid', 'Samuel L. Jackson'), 2),\n",
       " (('Natalie Portman', 'Samuel L. Jackson'), 2),\n",
       " (('Amy Adams', 'Tom Hanks'), 2),\n",
       " (('Leonardo DiCaprio', 'Martin Sheen'), 2),\n",
       " (('Tommy Lee Jones', 'Will Smith'), 2),\n",
       " (('Adrien Brody', 'Thomas Kretschmann'), 2),\n",
       " (('Jennifer Lopez', 'Stanley Tucci'), 2),\n",
       " (('Kris Kristofferson', 'Wesley Snipes'), 2),\n",
       " (('Bam Margera', 'Chris Pontius'), 2),\n",
       " (('Bam Margera', 'Johnny Knoxville'), 2),\n",
       " (('Bam Margera', 'Steve-O'), 2),\n",
       " (('Chris Pontius', 'Johnny Knoxville'), 2),\n",
       " (('Chris Pontius', 'Steve-O'), 2),\n",
       " (('Johnny Knoxville', 'Steve-O'), 2),\n",
       " (('Chris Cooper', 'Meryl Streep'), 2),\n",
       " (('Meryl Streep', 'Nicolas Cage'), 2),\n",
       " (('Cedric the Entertainer', 'Ice Cube'), 2),\n",
       " (('Cedric the Entertainer', 'Sean Patrick Thomas'), 2),\n",
       " (('Ice Cube', 'Sean Patrick Thomas'), 2),\n",
       " (('Don Curry', 'Ice Cube'), 2),\n",
       " (('Don Curry', 'John Witherspoon'), 2),\n",
       " (('Don Curry', 'Mike Epps'), 2),\n",
       " (('Ice Cube', 'John Witherspoon'), 2),\n",
       " (('John Witherspoon', 'Mike Epps'), 2),\n",
       " (('Bruce Willis', 'Cole Hauser'), 2),\n",
       " (('Matthew Davis', 'Michelle Rodriguez'), 2),\n",
       " (('Chris Rock', 'Kerry Washington'), 2),\n",
       " (('Jamie Foxx', 'Kerry Washington'), 2),\n",
       " (('Bradley Cooper', 'Jennifer Lawrence'), 2),\n",
       " (('Emma Thompson', 'Kelly Macdonald'), 2),\n",
       " (('Denis Leary', 'Seann William Scott'), 2),\n",
       " (('John Leguizamo', 'Seann William Scott'), 2),\n",
       " (('Ray Romano', 'Seann William Scott'), 2),\n",
       " (('Ewan McGregor', 'Naomi Watts'), 2),\n",
       " (('Josh Brolin', 'Tommy Lee Jones'), 2),\n",
       " (('Bill Nighy', 'Kate Beckinsale'), 2),\n",
       " (('Alyson Hannigan', 'Jason Biggs'), 2),\n",
       " (('Alyson Hannigan', 'Seann William Scott'), 2),\n",
       " (('Alyson Hannigan', 'Thomas Ian Nicholas'), 2),\n",
       " (('Adam Sandler', 'David Spade'), 2),\n",
       " (('David Spade', 'Kevin James'), 2),\n",
       " (('Ben Foster', 'Mark Wahlberg'), 2),\n",
       " (('Ben Stiller', 'Sacha Baron Cohen'), 2),\n",
       " (('Chris Rock', 'Sacha Baron Cohen'), 2),\n",
       " (('David Schwimmer', 'Sacha Baron Cohen'), 2),\n",
       " (('Amy Adams', 'Joaquin Phoenix'), 2),\n",
       " (('Jason Segel', 'Leslie Mann'), 2),\n",
       " (('Leslie Mann', 'Paul Rudd'), 2),\n",
       " (('Radha Mitchell', 'Sean Bean'), 2),\n",
       " (('Richard Gere', 'Susan Sarandon'), 2),\n",
       " (('Milla Jovovich', 'Sienna Guillory'), 2),\n",
       " (('Kate Beckinsale', 'Scott Speedman'), 2),\n",
       " (('Kate Beckinsale', 'Shane Brolly'), 2),\n",
       " (('Scott Speedman', 'Shane Brolly'), 2),\n",
       " (('Geoffrey Rush', 'Keira Knightley'), 2),\n",
       " (('Geoffrey Rush', 'Orlando Bloom'), 2),\n",
       " (('Jack Davenport', 'Johnny Depp'), 2),\n",
       " (('Jack Davenport', 'Keira Knightley'), 2),\n",
       " (('Jack Davenport', 'Orlando Bloom'), 2),\n",
       " (('Daryl Hannah', 'David Carradine'), 2),\n",
       " (('Daryl Hannah', 'Uma Thurman'), 2),\n",
       " (('David Carradine', 'Uma Thurman'), 2),\n",
       " (('Carrie-Anne Moss', 'Hugo Weaving'), 2),\n",
       " (('Carrie-Anne Moss', 'Keanu Reeves'), 2),\n",
       " (('Carrie-Anne Moss', 'Laurence Fishburne'), 2),\n",
       " (('Hugo Weaving', 'Keanu Reeves'), 2),\n",
       " (('Hugo Weaving', 'Laurence Fishburne'), 2),\n",
       " (('Keanu Reeves', 'Laurence Fishburne'), 2),\n",
       " (('Charlie Sheen', 'Simon Rex'), 2),\n",
       " (('Jennifer Coolidge', 'Regina King'), 2),\n",
       " (('Cameron Diaz', 'Drew Barrymore'), 2),\n",
       " (('Cameron Diaz', 'Lucy Liu'), 2),\n",
       " (('Drew Barrymore', 'Lucy Liu'), 2),\n",
       " (('Ali Larter', 'Tony Todd'), 2),\n",
       " (('Bonnie Hunt', 'Steve Martin'), 2),\n",
       " (('Bonnie Hunt', 'Tom Welling'), 2),\n",
       " (('Steve Martin', 'Tom Welling'), 2),\n",
       " (('DMX', 'Jet Li'), 2),\n",
       " (('Ewan McGregor', 'RenÃ©e Zellweger'), 2),\n",
       " (('Catherine Zeta-Jones', 'George Clooney'), 2),\n",
       " (('Eugene Levy', 'Steve Martin'), 2),\n",
       " (('Cynthia Stevenson', 'Frankie Muniz'), 2),\n",
       " (('Ben Kingsley', 'Guy Pearce'), 2),\n",
       " (('Karl Urban', 'Vin Diesel'), 2),\n",
       " (('Denzel Washington', 'Paula Patton'), 2),\n",
       " (('Matthew McConaughey', 'Steve Zahn'), 2),\n",
       " (('Michelle Pfeiffer', 'Robert De Niro'), 2),\n",
       " (('Adam Sandler', 'Chris Rock'), 2),\n",
       " (('Jaden Smith', 'Will Smith'), 2),\n",
       " (('Christina Applegate', 'David Koechner'), 2),\n",
       " (('Christina Applegate', 'Paul Rudd'), 2),\n",
       " (('Christina Applegate', 'Steve Carell'), 2),\n",
       " (('Christina Applegate', 'Will Ferrell'), 2),\n",
       " (('David Koechner', 'Paul Rudd'), 2),\n",
       " (('David Koechner', 'Steve Carell'), 2),\n",
       " (('David Koechner', 'Will Ferrell'), 2),\n",
       " (('Paul Rudd', 'Will Ferrell'), 2),\n",
       " (('Steve Carell', 'Will Ferrell'), 2),\n",
       " (('Alec Baldwin', 'Cate Blanchett'), 2),\n",
       " (('Julia Roberts', 'Meryl Streep'), 2),\n",
       " (('Christian Bale', 'Willem Dafoe'), 2),\n",
       " (('Daniel Radcliffe', 'Michael Gambon'), 2),\n",
       " (('Emma Watson', 'Michael Gambon'), 2),\n",
       " (('Michael Gambon', 'Ralph Fiennes'), 2),\n",
       " (('Michael Gambon', 'Rupert Grint'), 2),\n",
       " (('Freddie Highmore', 'Johnny Depp'), 2),\n",
       " (('Chris Evans', 'Ioan Gruffudd'), 2),\n",
       " (('Chris Evans', 'Jessica Alba'), 2),\n",
       " (('Chris Evans', 'Julian McMahon'), 2),\n",
       " (('Chris Evans', 'Michael Chiklis'), 2),\n",
       " (('Ioan Gruffudd', 'Jessica Alba'), 2),\n",
       " (('Ioan Gruffudd', 'Julian McMahon'), 2),\n",
       " (('Ioan Gruffudd', 'Michael Chiklis'), 2),\n",
       " (('Jessica Alba', 'Julian McMahon'), 2),\n",
       " (('Jessica Alba', 'Michael Chiklis'), 2),\n",
       " (('Julian McMahon', 'Michael Chiklis'), 2),\n",
       " (('Jim Carrey', 'Richard Jenkins'), 2),\n",
       " (('Joaquin Phoenix', 'Robert Patrick'), 2),\n",
       " (('Bill Nighy', 'Keira Knightley'), 2),\n",
       " (('Bill Nighy', 'Orlando Bloom'), 2),\n",
       " (('Daniel Craig', 'Eva Green'), 2),\n",
       " (('Daniel Craig', 'Jeffrey Wright'), 2),\n",
       " (('Ian McKellen', 'Jean Reno'), 2),\n",
       " (('Anna Faris', 'Regina Hall'), 2),\n",
       " (('Martin Lawrence', 'Nia Long'), 2),\n",
       " (('Adam Campbell', 'Jennifer Coolidge'), 2),\n",
       " (('Julia Stiles', 'Matt Damon'), 2),\n",
       " (('Diane Kruger', 'Jon Voight'), 2),\n",
       " (('Diane Kruger', 'Nicolas Cage'), 2),\n",
       " (('Jon Voight', 'Nicolas Cage'), 2),\n",
       " (('Milla Jovovich', 'Oded Fehr'), 2),\n",
       " (('Ben Stiller', 'Teri Polo'), 2),\n",
       " (('Robert De Niro', 'Teri Polo'), 2),\n",
       " (('Angelina Jolie', 'Giovanni Ribisi'), 2),\n",
       " (('Ben Stiller', 'Vince Vaughn'), 2),\n",
       " (('George W. Bush', 'Michael Moore'), 2),\n",
       " (('Bruce Willis', 'Matthew Perry'), 2),\n",
       " (('Kevin Pollak', 'Matthew Perry'), 2),\n",
       " (('Jason Bateman', 'Jennifer Garner'), 2),\n",
       " (('John Goodman', 'Patrick Warburton'), 2),\n",
       " (('Daniel Craig', 'Nicole Kidman'), 2),\n",
       " (('Bryce Dallas Howard', 'Chris Pratt'), 1),\n",
       " (('Bryce Dallas Howard', 'Irrfan Khan'), 1),\n",
       " (('Bryce Dallas Howard', 'Nick Robinson'), 1),\n",
       " (('Bryce Dallas Howard', \"Vincent D'Onofrio\"), 1),\n",
       " (('Chris Pratt', 'Irrfan Khan'), 1),\n",
       " (('Chris Pratt', 'Nick Robinson'), 1),\n",
       " (('Chris Pratt', \"Vincent D'Onofrio\"), 1),\n",
       " (('Irrfan Khan', 'Nick Robinson'), 1),\n",
       " (('Irrfan Khan', \"Vincent D'Onofrio\"), 1),\n",
       " (('Nick Robinson', \"Vincent D'Onofrio\"), 1),\n",
       " (('Charlize Theron', 'Hugh Keays-Byrne'), 1),\n",
       " (('Charlize Theron', 'Josh Helman'), 1),\n",
       " (('Charlize Theron', 'Nicholas Hoult'), 1),\n",
       " (('Charlize Theron', 'Tom Hardy'), 1),\n",
       " (('Hugh Keays-Byrne', 'Josh Helman'), 1),\n",
       " (('Hugh Keays-Byrne', 'Nicholas Hoult'), 1),\n",
       " (('Hugh Keays-Byrne', 'Tom Hardy'), 1),\n",
       " (('Josh Helman', 'Nicholas Hoult'), 1),\n",
       " (('Josh Helman', 'Tom Hardy'), 1),\n",
       " (('Nicholas Hoult', 'Tom Hardy'), 1),\n",
       " (('Ansel Elgort', 'Kate Winslet'), 1),\n",
       " (('Ansel Elgort', 'Miles Teller'), 1),\n",
       " (('Ansel Elgort', 'Theo James'), 1),\n",
       " (('Adam Driver', 'Carrie Fisher'), 1),\n",
       " (('Adam Driver', 'Daisy Ridley'), 1),\n",
       " (('Adam Driver', 'Harrison Ford'), 1),\n",
       " (('Adam Driver', 'Mark Hamill'), 1),\n",
       " (('Carrie Fisher', 'Daisy Ridley'), 1),\n",
       " (('Carrie Fisher', 'Harrison Ford'), 1),\n",
       " (('Carrie Fisher', 'Mark Hamill'), 1),\n",
       " (('Daisy Ridley', 'Harrison Ford'), 1),\n",
       " (('Daisy Ridley', 'Mark Hamill'), 1),\n",
       " (('Harrison Ford', 'Mark Hamill'), 1),\n",
       " (('Dwayne Johnson', 'Jason Statham'), 1),\n",
       " (('Dwayne Johnson', 'Michelle Rodriguez'), 1),\n",
       " (('Jason Statham', 'Michelle Rodriguez'), 1),\n",
       " (('Jason Statham', 'Paul Walker'), 1),\n",
       " (('Jason Statham', 'Vin Diesel'), 1),\n",
       " (('Domhnall Gleeson', 'Leonardo DiCaprio'), 1),\n",
       " (('Domhnall Gleeson', 'Paul Anderson'), 1),\n",
       " (('Domhnall Gleeson', 'Tom Hardy'), 1),\n",
       " (('Domhnall Gleeson', 'Will Poulter'), 1),\n",
       " (('Leonardo DiCaprio', 'Paul Anderson'), 1),\n",
       " (('Leonardo DiCaprio', 'Will Poulter'), 1),\n",
       " (('Paul Anderson', 'Tom Hardy'), 1),\n",
       " (('Paul Anderson', 'Will Poulter'), 1),\n",
       " (('Tom Hardy', 'Will Poulter'), 1),\n",
       " (('Arnold Schwarzenegger', 'Emilia Clarke'), 1),\n",
       " (('Arnold Schwarzenegger', 'J.K. Simmons'), 1),\n",
       " (('Arnold Schwarzenegger', 'Jai Courtney'), 1),\n",
       " (('Arnold Schwarzenegger', 'Jason Clarke'), 1),\n",
       " (('Emilia Clarke', 'J.K. Simmons'), 1),\n",
       " (('Emilia Clarke', 'Jai Courtney'), 1),\n",
       " (('Emilia Clarke', 'Jason Clarke'), 1),\n",
       " (('J.K. Simmons', 'Jai Courtney'), 1),\n",
       " (('J.K. Simmons', 'Jason Clarke'), 1),\n",
       " (('Jai Courtney', 'Jason Clarke'), 1),\n",
       " (('Jeff Daniels', 'Jessica Chastain'), 1),\n",
       " (('Jeff Daniels', 'Kristen Wiig'), 1),\n",
       " (('Jeff Daniels', 'Matt Damon'), 1),\n",
       " (('Jeff Daniels', 'Michael PeÃ±a'), 1),\n",
       " (('Jessica Chastain', 'Kristen Wiig'), 1),\n",
       " (('Jessica Chastain', 'Matt Damon'), 1),\n",
       " (('Jessica Chastain', 'Michael PeÃ±a'), 1),\n",
       " (('Kristen Wiig', 'Matt Damon'), 1),\n",
       " (('Kristen Wiig', 'Michael PeÃ±a'), 1),\n",
       " (('Matt Damon', 'Michael PeÃ±a'), 1),\n",
       " (('Allison Janney', 'Jon Hamm'), 1),\n",
       " (('Allison Janney', 'Michael Keaton'), 1),\n",
       " (('Allison Janney', 'Sandra Bullock'), 1),\n",
       " (('Allison Janney', 'Steve Coogan'), 1),\n",
       " (('Jon Hamm', 'Michael Keaton'), 1),\n",
       " (('Jon Hamm', 'Sandra Bullock'), 1),\n",
       " (('Jon Hamm', 'Steve Coogan'), 1),\n",
       " (('Michael Keaton', 'Sandra Bullock'), 1),\n",
       " (('Michael Keaton', 'Steve Coogan'), 1),\n",
       " (('Sandra Bullock', 'Steve Coogan'), 1),\n",
       " (('Amy Poehler', 'Bill Hader'), 1),\n",
       " (('Amy Poehler', 'Lewis Black'), 1),\n",
       " (('Amy Poehler', 'Phyllis Smith'), 1),\n",
       " (('Amy Poehler', 'Richard Kind'), 1),\n",
       " (('Bill Hader', 'Lewis Black'), 1),\n",
       " (('Bill Hader', 'Phyllis Smith'), 1),\n",
       " (('Bill Hader', 'Richard Kind'), 1),\n",
       " (('Lewis Black', 'Phyllis Smith'), 1),\n",
       " (('Lewis Black', 'Richard Kind'), 1),\n",
       " (('Phyllis Smith', 'Richard Kind'), 1),\n",
       " (('Christoph Waltz', 'Daniel Craig'), 1),\n",
       " (('Christoph Waltz', 'LÃ©a Seydoux'), 1),\n",
       " (('Christoph Waltz', 'Monica Bellucci'), 1),\n",
       " (('Christoph Waltz', 'Ralph Fiennes'), 1),\n",
       " (('Daniel Craig', 'LÃ©a Seydoux'), 1),\n",
       " (('Daniel Craig', 'Monica Bellucci'), 1),\n",
       " (('LÃ©a Seydoux', 'Monica Bellucci'), 1),\n",
       " (('LÃ©a Seydoux', 'Ralph Fiennes'), 1),\n",
       " (('Monica Bellucci', 'Ralph Fiennes'), 1),\n",
       " (('Channing Tatum', 'Douglas Booth'), 1),\n",
       " (('Channing Tatum', 'Eddie Redmayne'), 1),\n",
       " (('Channing Tatum', 'Mila Kunis'), 1),\n",
       " (('Channing Tatum', 'Sean Bean'), 1),\n",
       " (('Douglas Booth', 'Eddie Redmayne'), 1),\n",
       " (('Douglas Booth', 'Mila Kunis'), 1),\n",
       " (('Douglas Booth', 'Sean Bean'), 1),\n",
       " (('Eddie Redmayne', 'Mila Kunis'), 1),\n",
       " (('Eddie Redmayne', 'Sean Bean'), 1),\n",
       " (('Mila Kunis', 'Sean Bean'), 1),\n",
       " (('Alicia Vikander', 'Corey Johnson'), 1),\n",
       " (('Alicia Vikander', 'Domhnall Gleeson'), 1),\n",
       " (('Alicia Vikander', 'Oscar Isaac'), 1),\n",
       " (('Alicia Vikander', 'Sonoya Mizuno'), 1),\n",
       " (('Corey Johnson', 'Domhnall Gleeson'), 1),\n",
       " (('Corey Johnson', 'Oscar Isaac'), 1),\n",
       " (('Corey Johnson', 'Sonoya Mizuno'), 1),\n",
       " (('Domhnall Gleeson', 'Oscar Isaac'), 1),\n",
       " (('Domhnall Gleeson', 'Sonoya Mizuno'), 1),\n",
       " (('Oscar Isaac', 'Sonoya Mizuno'), 1),\n",
       " (('Adam Sandler', 'Josh Gad'), 1),\n",
       " (('Adam Sandler', 'Michelle Monaghan'), 1),\n",
       " (('Adam Sandler', 'Peter Dinklage'), 1),\n",
       " (('Josh Gad', 'Kevin James'), 1),\n",
       " (('Josh Gad', 'Michelle Monaghan'), 1),\n",
       " (('Josh Gad', 'Peter Dinklage'), 1),\n",
       " (('Kevin James', 'Michelle Monaghan'), 1),\n",
       " (('Kevin James', 'Peter Dinklage'), 1),\n",
       " (('Michelle Monaghan', 'Peter Dinklage'), 1),\n",
       " (('DemiÃ¡n Bichir', 'Jennifer Jason Leigh'), 1),\n",
       " (('DemiÃ¡n Bichir', 'Kurt Russell'), 1),\n",
       " (('DemiÃ¡n Bichir', 'Samuel L. Jackson'), 1),\n",
       " (('DemiÃ¡n Bichir', 'Walton Goggins'), 1),\n",
       " (('Jennifer Jason Leigh', 'Kurt Russell'), 1),\n",
       " (('Jennifer Jason Leigh', 'Samuel L. Jackson'), 1),\n",
       " (('Jennifer Jason Leigh', 'Walton Goggins'), 1),\n",
       " (('Kurt Russell', 'Samuel L. Jackson'), 1),\n",
       " (('Kurt Russell', 'Walton Goggins'), 1),\n",
       " (('Samuel L. Jackson', 'Walton Goggins'), 1),\n",
       " (('Dougray Scott', 'Famke Janssen'), 1),\n",
       " (('Dougray Scott', 'Forest Whitaker'), 1),\n",
       " (('Dougray Scott', 'Liam Neeson'), 1),\n",
       " (('Dougray Scott', 'Maggie Grace'), 1),\n",
       " (('Famke Janssen', 'Forest Whitaker'), 1),\n",
       " (('Forest Whitaker', 'Liam Neeson'), 1),\n",
       " (('Forest Whitaker', 'Maggie Grace'), 1),\n",
       " (('Bobby Cannavale', 'Corey Stoll'), 1),\n",
       " (('Bobby Cannavale', 'Evangeline Lilly'), 1),\n",
       " (('Bobby Cannavale', 'Michael Douglas'), 1),\n",
       " (('Bobby Cannavale', 'Paul Rudd'), 1),\n",
       " (('Corey Stoll', 'Evangeline Lilly'), 1),\n",
       " (('Corey Stoll', 'Michael Douglas'), 1),\n",
       " (('Corey Stoll', 'Paul Rudd'), 1),\n",
       " (('Evangeline Lilly', 'Michael Douglas'), 1),\n",
       " (('Evangeline Lilly', 'Paul Rudd'), 1),\n",
       " (('Michael Douglas', 'Paul Rudd'), 1),\n",
       " (('Cate Blanchett', 'Helena Bonham Carter'), 1),\n",
       " (('Cate Blanchett', 'Holliday Grainger'), 1),\n",
       " (('Cate Blanchett', 'Lily James'), 1),\n",
       " (('Cate Blanchett', 'Richard Madden'), 1),\n",
       " (('Helena Bonham Carter', 'Holliday Grainger'), 1),\n",
       " (('Helena Bonham Carter', 'Lily James'), 1),\n",
       " (('Helena Bonham Carter', 'Richard Madden'), 1),\n",
       " (('Holliday Grainger', 'Lily James'), 1),\n",
       " (('Holliday Grainger', 'Richard Madden'), 1),\n",
       " (('Lily James', 'Richard Madden'), 1),\n",
       " (('Britt Robertson', 'George Clooney'), 1),\n",
       " (('Britt Robertson', 'Hugh Laurie'), 1),\n",
       " (('Britt Robertson', 'Raffey Cassidy'), 1),\n",
       " (('Britt Robertson', 'Thomas Robinson'), 1),\n",
       " (('George Clooney', 'Hugh Laurie'), 1),\n",
       " (('George Clooney', 'Raffey Cassidy'), 1),\n",
       " (('George Clooney', 'Thomas Robinson'), 1),\n",
       " (('Hugh Laurie', 'Raffey Cassidy'), 1),\n",
       " (('Hugh Laurie', 'Thomas Robinson'), 1),\n",
       " (('Raffey Cassidy', 'Thomas Robinson'), 1),\n",
       " (('50 Cent', 'Forest Whitaker'), 1),\n",
       " (('50 Cent', 'Jake Gyllenhaal'), 1),\n",
       " (('50 Cent', 'Oona Laurence'), 1),\n",
       " (('50 Cent', 'Rachel McAdams'), 1),\n",
       " (('Forest Whitaker', 'Jake Gyllenhaal'), 1),\n",
       " (('Forest Whitaker', 'Oona Laurence'), 1),\n",
       " (('Forest Whitaker', 'Rachel McAdams'), 1),\n",
       " (('Jake Gyllenhaal', 'Oona Laurence'), 1),\n",
       " (('Jake Gyllenhaal', 'Rachel McAdams'), 1),\n",
       " (('Oona Laurence', 'Rachel McAdams'), 1),\n",
       " (('Alexandra Daddario', 'Archie Panjabi'), 1),\n",
       " (('Alexandra Daddario', 'Carla Gugino'), 1),\n",
       " (('Alexandra Daddario', 'Dwayne Johnson'), 1),\n",
       " (('Alexandra Daddario', 'Ioan Gruffudd'), 1),\n",
       " (('Archie Panjabi', 'Carla Gugino'), 1),\n",
       " (('Archie Panjabi', 'Dwayne Johnson'), 1),\n",
       " (('Archie Panjabi', 'Ioan Gruffudd'), 1),\n",
       " (('Carla Gugino', 'Ioan Gruffudd'), 1),\n",
       " (('Dwayne Johnson', 'Ioan Gruffudd'), 1),\n",
       " (('Dakota Johnson', 'Eloise Mumford'), 1),\n",
       " (('Dakota Johnson', 'Jamie Dornan'), 1),\n",
       " (('Dakota Johnson', 'Jennifer Ehle'), 1),\n",
       " (('Dakota Johnson', 'Victor Rasuk'), 1),\n",
       " (('Eloise Mumford', 'Jamie Dornan'), 1),\n",
       " (('Eloise Mumford', 'Jennifer Ehle'), 1),\n",
       " (('Eloise Mumford', 'Victor Rasuk'), 1),\n",
       " (('Jamie Dornan', 'Jennifer Ehle'), 1),\n",
       " (('Jamie Dornan', 'Victor Rasuk'), 1),\n",
       " (('Jennifer Ehle', 'Victor Rasuk'), 1),\n",
       " (('Brad Pitt', 'Christian Bale'), 1),\n",
       " (('Brad Pitt', 'Melissa Leo'), 1),\n",
       " (('Brad Pitt', 'Ryan Gosling'), 1),\n",
       " (('Brad Pitt', 'Steve Carell'), 1),\n",
       " (('Christian Bale', 'Ryan Gosling'), 1),\n",
       " (('Christian Bale', 'Steve Carell'), 1),\n",
       " (('Melissa Leo', 'Ryan Gosling'), 1),\n",
       " (('Melissa Leo', 'Steve Carell'), 1),\n",
       " (('Jeremy Renner', 'Rebecca Ferguson'), 1),\n",
       " (('Jeremy Renner', 'Ving Rhames'), 1),\n",
       " (('Rebecca Ferguson', 'Simon Pegg'), 1),\n",
       " (('Rebecca Ferguson', 'Tom Cruise'), 1),\n",
       " (('Rebecca Ferguson', 'Ving Rhames'), 1),\n",
       " (('Simon Pegg', 'Ving Rhames'), 1),\n",
       " (('Amanda Seyfried', 'Giovanni Ribisi'), 1),\n",
       " (('Amanda Seyfried', 'Jessica Barth'), 1),\n",
       " (('Amanda Seyfried', 'Mark Wahlberg'), 1),\n",
       " (('Amanda Seyfried', 'Seth MacFarlane'), 1),\n",
       " (('Giovanni Ribisi', 'Jessica Barth'), 1),\n",
       " (('Jessica Barth', 'Mark Wahlberg'), 1),\n",
       " (('Jessica Barth', 'Seth MacFarlane'), 1),\n",
       " (('Colin Firth', 'Mark Strong'), 1),\n",
       " (('Colin Firth', 'Michael Caine'), 1),\n",
       " (('Colin Firth', 'Samuel L. Jackson'), 1),\n",
       " (('Colin Firth', 'Taron Egerton'), 1),\n",
       " (('Mark Strong', 'Michael Caine'), 1),\n",
       " (('Mark Strong', 'Samuel L. Jackson'), 1),\n",
       " (('Mark Strong', 'Taron Egerton'), 1),\n",
       " (('Michael Caine', 'Samuel L. Jackson'), 1),\n",
       " (('Michael Caine', 'Taron Egerton'), 1),\n",
       " (('Samuel L. Jackson', 'Taron Egerton'), 1),\n",
       " (('John Slattery', 'Liev Schreiber'), 1),\n",
       " (('John Slattery', 'Mark Ruffalo'), 1),\n",
       " (('John Slattery', 'Michael Keaton'), 1),\n",
       " (('John Slattery', 'Rachel McAdams'), 1),\n",
       " (('Liev Schreiber', 'Mark Ruffalo'), 1),\n",
       " (('Liev Schreiber', 'Michael Keaton'), 1),\n",
       " (('Liev Schreiber', 'Rachel McAdams'), 1),\n",
       " (('Mark Ruffalo', 'Michael Keaton'), 1),\n",
       " (('Mark Ruffalo', 'Rachel McAdams'), 1),\n",
       " (('Michael Keaton', 'Rachel McAdams'), 1),\n",
       " (('Aidan Gillen', \"Dylan O'Brien\"), 1),\n",
       " (('Aidan Gillen', 'Giancarlo Esposito'), 1),\n",
       " (('Aidan Gillen', 'Kaya Scodelario'), 1),\n",
       " (('Aidan Gillen', 'Thomas Brodie-Sangster'), 1),\n",
       " ((\"Dylan O'Brien\", 'Giancarlo Esposito'), 1),\n",
       " ((\"Dylan O'Brien\", 'Thomas Brodie-Sangster'), 1),\n",
       " (('Giancarlo Esposito', 'Kaya Scodelario'), 1),\n",
       " (('Giancarlo Esposito', 'Thomas Brodie-Sangster'), 1),\n",
       " (('Kaya Scodelario', 'Thomas Brodie-Sangster'), 1),\n",
       " (('Dev Patel', 'Jose Pablo Cantillo'), 1),\n",
       " (('Dev Patel', 'Ninja'), 1),\n",
       " (('Dev Patel', 'Sharlto Copley'), 1),\n",
       " (('Dev Patel', 'Yolandi Visser'), 1),\n",
       " (('Jose Pablo Cantillo', 'Ninja'), 1),\n",
       " (('Jose Pablo Cantillo', 'Sharlto Copley'), 1),\n",
       " (('Jose Pablo Cantillo', 'Yolandi Visser'), 1),\n",
       " (('Ninja', 'Sharlto Copley'), 1),\n",
       " (('Ninja', 'Yolandi Visser'), 1),\n",
       " (('Sharlto Copley', 'Yolandi Visser'), 1),\n",
       " (('Anna Kendrick', 'Hailee Steinfeld'), 1),\n",
       " (('Brittany Snow', 'Hailee Steinfeld'), 1),\n",
       " (('Hailee Steinfeld', 'Rebel Wilson'), 1),\n",
       " (('Hailee Steinfeld', 'Skylar Astin'), 1),\n",
       " (('Alan Alda', 'Amy Ryan'), 1),\n",
       " (('Alan Alda', 'Mark Rylance'), 1),\n",
       " (('Alan Alda', 'Sebastian Koch'), 1),\n",
       " (('Alan Alda', 'Tom Hanks'), 1),\n",
       " (('Amy Ryan', 'Mark Rylance'), 1),\n",
       " (('Amy Ryan', 'Sebastian Koch'), 1),\n",
       " (('Amy Ryan', 'Tom Hanks'), 1),\n",
       " (('Mark Rylance', 'Sebastian Koch'), 1),\n",
       " (('Mark Rylance', 'Tom Hanks'), 1),\n",
       " (('Sebastian Koch', 'Tom Hanks'), 1),\n",
       " (('Amy Ryan', 'Dylan Minnette'), 1),\n",
       " (('Amy Ryan', 'Jack Black'), 1),\n",
       " (('Amy Ryan', 'Jillian Bell'), 1),\n",
       " (('Amy Ryan', 'Odeya Rush'), 1),\n",
       " (('Dylan Minnette', 'Jack Black'), 1),\n",
       " (('Dylan Minnette', 'Jillian Bell'), 1),\n",
       " (('Dylan Minnette', 'Odeya Rush'), 1),\n",
       " (('Jack Black', 'Jillian Bell'), 1),\n",
       " (('Jack Black', 'Odeya Rush'), 1),\n",
       " (('Jillian Bell', 'Odeya Rush'), 1),\n",
       " (('Brie Larson', 'Jacob Tremblay'), 1),\n",
       " (('Brie Larson', 'Joan Allen'), 1),\n",
       " (('Brie Larson', 'Sean Bridgers'), 1),\n",
       " (('Brie Larson', 'William H. Macy'), 1),\n",
       " (('Jacob Tremblay', 'Joan Allen'), 1),\n",
       " (('Jacob Tremblay', 'Sean Bridgers'), 1),\n",
       " (('Jacob Tremblay', 'William H. Macy'), 1),\n",
       " ...]"
      ]
     },
     "execution_count": 31,
     "metadata": {},
     "output_type": "execute_result"
    }
   ],
   "source": [
    "answers['27'] = '5. Daniel Radcliffe & Rupert Grint' # +\n",
    "\n",
    "Counter(data.cast_comb.values.sum()).most_common() # Суммируем комбинации во всем фрейме, получаем самые распространенные"
   ]
  },
  {
   "cell_type": "markdown",
   "metadata": {
    "colab_type": "text",
    "id": "U0nONFnGVqAX"
   },
   "source": [
    "# Submission"
   ]
  },
  {
   "cell_type": "code",
   "execution_count": 32,
   "metadata": {
    "colab": {},
    "colab_type": "code",
    "id": "IfcaRO9-VqAX",
    "outputId": "0f132912-32bb-4196-c98c-abfbc4ad5a5f"
   },
   "outputs": [
    {
     "data": {
      "text/plain": [
       "{'1': '5. Pirates of the Caribbean: On Stranger Tides',\n",
       " '2': '2. Gods and Generals',\n",
       " '3': '3. Winnie the Pooh',\n",
       " '4': '2. 110',\n",
       " '5': '3. 107',\n",
       " '6': '5. Avatar',\n",
       " '7': '5. The Lone Ranger',\n",
       " '8': '1. 1478',\n",
       " '9': '4. The Dark Knight',\n",
       " '10': '5. The Lone Ranger',\n",
       " '11': '3. Drama',\n",
       " '12': '1. Drama',\n",
       " '13': '5. Peter Jackson',\n",
       " '14': '3. Robert Rodriguez',\n",
       " '15': '3. Chris Hemsworth',\n",
       " '16': '3. Matt Damon',\n",
       " '17': '2. Action',\n",
       " '18': '1. K-19: The Widowmaker',\n",
       " '19': '5. 2015',\n",
       " '20': '1. 2014',\n",
       " '21': '4. Сентябрь',\n",
       " '22': '2. 450',\n",
       " '23': '5. Peter Jackson',\n",
       " '24': '5. Four By Two Productions',\n",
       " '25': '3. Midnight Picture Show',\n",
       " '26': '1. Inside Out, The Dark Knight, 12 Years a Slave',\n",
       " '27': '5. Daniel Radcliffe & Rupert Grint'}"
      ]
     },
     "execution_count": 32,
     "metadata": {},
     "output_type": "execute_result"
    }
   ],
   "source": [
    "# в конце можно посмотреть свои ответы к каждому вопросу\n",
    "answers"
   ]
  },
  {
   "cell_type": "code",
   "execution_count": 33,
   "metadata": {
    "colab": {},
    "colab_type": "code",
    "id": "SiRmHPl8VqAd"
   },
   "outputs": [
    {
     "data": {
      "text/plain": [
       "27"
      ]
     },
     "execution_count": 33,
     "metadata": {},
     "output_type": "execute_result"
    }
   ],
   "source": [
    "# и убедиться что ни чего не пропустил)\n",
    "len(answers)"
   ]
  }
 ],
 "metadata": {
  "colab": {
   "name": "Copy of [SF-DST] Movies IMBD v4.1 TEMPLATE.ipynb",
   "provenance": []
  },
  "kernelspec": {
   "display_name": "Python 3",
   "language": "python",
   "name": "python3"
  },
  "language_info": {
   "codemirror_mode": {
    "name": "ipython",
    "version": 3
   },
   "file_extension": ".py",
   "mimetype": "text/x-python",
   "name": "python",
   "nbconvert_exporter": "python",
   "pygments_lexer": "ipython3",
   "version": "3.7.6"
  }
 },
 "nbformat": 4,
 "nbformat_minor": 1
}
